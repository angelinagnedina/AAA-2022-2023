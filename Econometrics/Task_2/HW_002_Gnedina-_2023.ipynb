{
 "cells": [
  {
   "cell_type": "markdown",
   "metadata": {},
   "source": [
    "# Академия Аналитиков Авито"
   ]
  },
  {
   "cell_type": "markdown",
   "metadata": {},
   "source": [
    "# Эконометрика"
   ]
  },
  {
   "cell_type": "markdown",
   "metadata": {},
   "source": [
    "# Домашняя работа №2"
   ]
  },
  {
   "cell_type": "markdown",
   "metadata": {},
   "source": [
    "## №1 (20 баллов)"
   ]
  },
  {
   "cell_type": "markdown",
   "metadata": {},
   "source": [
    "- Допустим, у нас есть подобная регрессия (допустим, что мы центрировали переменные):\n",
    "$\n",
    "y = \\beta_1 \\cdot X_1 + \\beta_2 \\cdot X_2 + u\n",
    "$\n",
    "- Однако, наш $X_2$ абсолютно линейно зависит от $X_1$:\n",
    "$\n",
    "X_2 = \\mu \\cdot X_1\n",
    "$\n",
    "\n",
    "- Выразите через $X_1$:  \n",
    "    - $\n",
    "\\sum{X_2^2}\n",
    "$\n",
    "    - $\n",
    "\\sum{X_2 \\cdot y}\n",
    "$\n",
    "    - $\n",
    "\\sum{X_1 \\cdot X_2}\n",
    "$\n",
    "\n",
    "- А теперь выразите $\\beta_2$, зная формулу для нее в случае регрессии с двумя переменными, через $X_1$\n",
    "$$\n",
    "\\beta_2 = \\frac{\\sum{X_1 \\cdot y} \\cdot \\sum{X_2^2} - \\sum{X_2 \\cdot y} \\cdot \\sum{X_1 \\cdot X_2}}{\\sum{X_1^2} \\cdot \\sum{X_2^2} - (\\sum{X_1 \\cdot X_2})^2}\n",
    "$$\n",
    "\n",
    "- Что вы можете сказать? Что произошло с коэффициентом?"
   ]
  },
  {
   "cell_type": "markdown",
   "metadata": {},
   "source": [
    "$$\\sum\\limits_{i=1}^k (X_2^i)^2 = X_2^{T}X_2 = \\mu^2 X_1^{T}X_1 \\text{, где $k$ - число наблюдений.}$$\n",
    "$$\\sum\\limits_{i=1}^k X_2^i y_i = y^{T}X_2 = \\mu y^{T}X_1$$.\n",
    "$$\\sum\\limits_{i=1}^k X_2^i X_1^i = X_1^{T}X_2 = \\mu X_1^{T}X_1$$.\n",
    "\n",
    "Отсюда в числителе для коэффициента $\\beta_2$ получаем $\\mu^2 y^{T}X_1X_1^{T}X_1 - \\mu^2 y^{T}X_1X_1^{T}X_1 = 0$, то есть регрессия будет иметь вид $y = \\beta_1 X_1 + u$. "
   ]
  },
  {
   "cell_type": "markdown",
   "metadata": {},
   "source": [
    "### №2 (20 баллов)"
   ]
  },
  {
   "cell_type": "markdown",
   "metadata": {},
   "source": [
    "- Давайте разберем такой замечательный пример из статьи [Stambaugh (1999)](https://repository.upenn.edu/fnce_papers/367/)\n",
    "- Суть достаточно простая. Когда мы пытаемся предсказать доходности ценных бумаг (например, акций) с помощью регрессоров, которые весьма постоянны во времени (например, дивидендная доходность, которая редко меняется, т.к. компании редко сильно меняют свою дивидендную политику, чтобы не отпугнуть инвесторов), то мы получаем смещение наших оценок коэффициентов для регрессии доходности\n",
    "- У нас есть:\n",
    "$$\n",
    "r_t = \\alpha + x_{t-1} \\cdot \\beta + \\varepsilon_t \\\\ \n",
    "x_t = \\theta + x_{t-1} \\cdot \\gamma + u_t \\\\ \n",
    "\\varepsilon_t = \\phi \\cdot u_t + w_t\n",
    "$$\n",
    "Где, $w_t$ независим от $u_t$ и $x_t$, $\\gamma \\in (0, 1)$\n",
    "- Нам с вами надо посмотреть, что будет с $\\hat{\\beta}$\n",
    "- Для этого надо сначала посчитать:\n",
    "    - $\n",
    "\\hat{\\gamma} \n",
    "$  \n",
    "    - $\n",
    "\\hat{\\gamma} - \\gamma\n",
    "$  \n",
    "    - $\n",
    "\\hat{\\beta} \n",
    "$\n",
    "    - $\n",
    "\\hat{\\beta} - \\beta\n",
    "$  \n",
    "- Какой вывод можно сделать? Какие предпосылки вы использовали?"
   ]
  },
  {
   "cell_type": "markdown",
   "metadata": {},
   "source": [
    "Не очень поняла, зачем нам $\\hat{\\gamma}$ и $\\hat{\\gamma} - \\gamma$ для того, чтобы увидеть смещённость оценки коэффициента для регрессии доходности.\n",
    "В статье показано, как bias в оценке $\\gamma$ связан с bias'ом в $\\beta$, но это какое-то более сложное утверждение, нежели смещённость $\\beta$.\n",
    "\n",
    "Какие предпосылки используются в статье: $(\\epsilon_t, u_t)$ некоррелированы по $t$ (в статье берётся нормальное распределение для вычислительной простоты). \n",
    "\n",
    "Далее идут скучные выкладки, для которых нужно ввести много обозначений: $X_1 = (1, ..., 1)^{T},\\ X_2 = (x_0, ..., x_{k-1})^{T},\\ r = (r_1, ..., r_k)^{T},\\ \\overline X = X_2.mean() = \\frac{X_1^{T}X_2}{k}, M = I_k - \\frac{X_1 X_1^{T}}{k}, \\epsilon = (\\epsilon_1, ..., \\epsilon_k)^{T}$, где $k$ - количество наблюдений, $I_k$ - единичная матрица размера $k \\times k$.\n",
    "\n",
    "Тогда (секция A.1):\n",
    "$$\\hat{\\beta} = \\frac{(X_2 - \\overline X X_1)^{T}r}{(X_2 - \\overline X X_1)^{T}(X_2 - \\overline X X_1)}$$\n",
    "$$= \\frac{X_2^{T} M r}{X_2^{T} M X_2} = \\beta + \\frac{X_2^{T} M \\epsilon}{X_2^{T} M X_2}.$$\n",
    "В первом переходе очевидно $(X_2 - \\overline X X_1)^{T} = X_2^{T} M$, а в знаменателе $M$, а не $M^2$, так как $M^2 = M$.\n",
    "Во втором переходе мы просто расписали $r$.\n",
    "\n",
    "Итого видим, что распределение $\\hat{\\beta} - \\beta$, вообще говоря, не зависит от $\\alpha, \\beta, \\theta$.\n",
    "Если дальше расписывать, то в статье авторы показывают, что распределение разности зависит от $\\gamma$ и от матрицы ковариации векторов $(\\epsilon_t, u_t)$ (это в случае нормального распределения) + в случае, когда $\\epsilon_t$ и $u_t$ коррелируют, то оценки МНК не являются несмещёнными."
   ]
  },
  {
   "cell_type": "markdown",
   "metadata": {},
   "source": [
    "## №3 (60 баллов)"
   ]
  },
  {
   "cell_type": "markdown",
   "metadata": {},
   "source": [
    "- Давайте вернемся к уже известному датасету с машинами"
   ]
  },
  {
   "cell_type": "code",
   "execution_count": 1,
   "metadata": {
    "ExecuteTime": {
     "end_time": "2022-09-13T17:05:20.317057Z",
     "start_time": "2022-09-13T17:05:18.406051Z"
    }
   },
   "outputs": [],
   "source": [
    "import pandas as pd\n",
    "import numpy as np\n",
    "import statsmodels.formula.api as smf\n",
    "import statsmodels.api as sm\n",
    "import matplotlib.pyplot as plt\n",
    "from statsmodels.stats.outliers_influence import variance_inflation_factor"
   ]
  },
  {
   "cell_type": "markdown",
   "metadata": {},
   "source": [
    "- У нас есть следующий датасет\n",
    "- Нам хочется понять от чего зависит цена на машину\n",
    "- Сам датасет составлен из стоимости автомобилей и их характеристик в 1978 г.\n",
    "    - \"make\" - марка и модель автомобиля\n",
    "    - \"price\" - цена\n",
    "    - \"mpg\" - пробег\n",
    "    - \"rep78\" - кол-во записей о ремонте к 1978 г.\n",
    "    - \"headroom\" - габаритная высота\n",
    "    - \"trunk\" - размер багажника\n",
    "    - \"weight\" - вес\n",
    "    - \"length\" - длина\n",
    "    - \"turn\" - радиус разворота\n",
    "    - \"displacement\" - объем двигателя\n",
    "    - \"gear_ratio\" - передаточное число\n",
    "    - \"foreing\" - происхождение автомобиля"
   ]
  },
  {
   "cell_type": "code",
   "execution_count": 2,
   "metadata": {
    "ExecuteTime": {
     "end_time": "2022-09-13T17:05:20.365067Z",
     "start_time": "2022-09-13T17:05:20.322058Z"
    }
   },
   "outputs": [],
   "source": [
    "df = pd.read_csv('HW_002_001.csv')"
   ]
  },
  {
   "cell_type": "code",
   "execution_count": 3,
   "metadata": {
    "ExecuteTime": {
     "end_time": "2022-09-13T17:05:20.439064Z",
     "start_time": "2022-09-13T17:05:20.372061Z"
    }
   },
   "outputs": [
    {
     "data": {
      "text/html": [
       "<div>\n",
       "<style scoped>\n",
       "    .dataframe tbody tr th:only-of-type {\n",
       "        vertical-align: middle;\n",
       "    }\n",
       "\n",
       "    .dataframe tbody tr th {\n",
       "        vertical-align: top;\n",
       "    }\n",
       "\n",
       "    .dataframe thead th {\n",
       "        text-align: right;\n",
       "    }\n",
       "</style>\n",
       "<table border=\"1\" class=\"dataframe\">\n",
       "  <thead>\n",
       "    <tr style=\"text-align: right;\">\n",
       "      <th></th>\n",
       "      <th>make</th>\n",
       "      <th>price</th>\n",
       "      <th>mpg</th>\n",
       "      <th>rep78</th>\n",
       "      <th>headroom</th>\n",
       "      <th>trunk</th>\n",
       "      <th>weight</th>\n",
       "      <th>length</th>\n",
       "      <th>turn</th>\n",
       "      <th>displacement</th>\n",
       "      <th>gear_ratio</th>\n",
       "      <th>foreign</th>\n",
       "    </tr>\n",
       "  </thead>\n",
       "  <tbody>\n",
       "    <tr>\n",
       "      <th>0</th>\n",
       "      <td>AMC Concord</td>\n",
       "      <td>4099</td>\n",
       "      <td>22</td>\n",
       "      <td>3.0</td>\n",
       "      <td>2.5</td>\n",
       "      <td>11</td>\n",
       "      <td>2930</td>\n",
       "      <td>186</td>\n",
       "      <td>40</td>\n",
       "      <td>121</td>\n",
       "      <td>3.58</td>\n",
       "      <td>Domestic</td>\n",
       "    </tr>\n",
       "    <tr>\n",
       "      <th>1</th>\n",
       "      <td>AMC Pacer</td>\n",
       "      <td>4749</td>\n",
       "      <td>17</td>\n",
       "      <td>3.0</td>\n",
       "      <td>3.0</td>\n",
       "      <td>11</td>\n",
       "      <td>3350</td>\n",
       "      <td>173</td>\n",
       "      <td>40</td>\n",
       "      <td>258</td>\n",
       "      <td>2.53</td>\n",
       "      <td>Domestic</td>\n",
       "    </tr>\n",
       "    <tr>\n",
       "      <th>2</th>\n",
       "      <td>AMC Spirit</td>\n",
       "      <td>3799</td>\n",
       "      <td>22</td>\n",
       "      <td>NaN</td>\n",
       "      <td>3.0</td>\n",
       "      <td>12</td>\n",
       "      <td>2640</td>\n",
       "      <td>168</td>\n",
       "      <td>35</td>\n",
       "      <td>121</td>\n",
       "      <td>3.08</td>\n",
       "      <td>Domestic</td>\n",
       "    </tr>\n",
       "    <tr>\n",
       "      <th>3</th>\n",
       "      <td>Buick Century</td>\n",
       "      <td>4816</td>\n",
       "      <td>20</td>\n",
       "      <td>3.0</td>\n",
       "      <td>4.5</td>\n",
       "      <td>16</td>\n",
       "      <td>3250</td>\n",
       "      <td>196</td>\n",
       "      <td>40</td>\n",
       "      <td>196</td>\n",
       "      <td>2.93</td>\n",
       "      <td>Domestic</td>\n",
       "    </tr>\n",
       "    <tr>\n",
       "      <th>4</th>\n",
       "      <td>Buick Electra</td>\n",
       "      <td>7827</td>\n",
       "      <td>15</td>\n",
       "      <td>4.0</td>\n",
       "      <td>4.0</td>\n",
       "      <td>20</td>\n",
       "      <td>4080</td>\n",
       "      <td>222</td>\n",
       "      <td>43</td>\n",
       "      <td>350</td>\n",
       "      <td>2.41</td>\n",
       "      <td>Domestic</td>\n",
       "    </tr>\n",
       "  </tbody>\n",
       "</table>\n",
       "</div>"
      ],
      "text/plain": [
       "            make  price  mpg  rep78  headroom  trunk  weight  length  turn  \\\n",
       "0    AMC Concord   4099   22    3.0       2.5     11    2930     186    40   \n",
       "1      AMC Pacer   4749   17    3.0       3.0     11    3350     173    40   \n",
       "2     AMC Spirit   3799   22    NaN       3.0     12    2640     168    35   \n",
       "3  Buick Century   4816   20    3.0       4.5     16    3250     196    40   \n",
       "4  Buick Electra   7827   15    4.0       4.0     20    4080     222    43   \n",
       "\n",
       "   displacement  gear_ratio   foreign  \n",
       "0           121        3.58  Domestic  \n",
       "1           258        2.53  Domestic  \n",
       "2           121        3.08  Domestic  \n",
       "3           196        2.93  Domestic  \n",
       "4           350        2.41  Domestic  "
      ]
     },
     "execution_count": 3,
     "metadata": {},
     "output_type": "execute_result"
    }
   ],
   "source": [
    "df.head(5)"
   ]
  },
  {
   "cell_type": "markdown",
   "metadata": {},
   "source": [
    "- Вы уже пытались построить всякие разные модификации линейной регресии\n",
    "- Давайте же попробуем сделать опять все то же самое (можете взять ту модель, которую успели сделать на занятии)"
   ]
  },
  {
   "cell_type": "code",
   "execution_count": 4,
   "metadata": {},
   "outputs": [
    {
     "data": {
      "image/png": "[encoded data removed]",
      "text/plain": [
       "<Figure size 432x288 with 1 Axes>"
      ]
     },
     "metadata": {
      "needs_background": "light"
     },
     "output_type": "display_data"
    }
   ],
   "source": [
    "# Видно, что можно прологарифмировать целевую переменную\n",
    "df['price'].hist();"
   ]
  },
  {
   "cell_type": "code",
   "execution_count": 5,
   "metadata": {},
   "outputs": [
    {
     "data": {
      "text/html": [
       "<div>\n",
       "<style scoped>\n",
       "    .dataframe tbody tr th:only-of-type {\n",
       "        vertical-align: middle;\n",
       "    }\n",
       "\n",
       "    .dataframe tbody tr th {\n",
       "        vertical-align: top;\n",
       "    }\n",
       "\n",
       "    .dataframe thead th {\n",
       "        text-align: right;\n",
       "    }\n",
       "</style>\n",
       "<table border=\"1\" class=\"dataframe\">\n",
       "  <thead>\n",
       "    <tr style=\"text-align: right;\">\n",
       "      <th></th>\n",
       "      <th>price</th>\n",
       "      <th>displacement</th>\n",
       "      <th>weight</th>\n",
       "      <th>is_Foreign</th>\n",
       "    </tr>\n",
       "  </thead>\n",
       "  <tbody>\n",
       "    <tr>\n",
       "      <th>0</th>\n",
       "      <td>8.318498</td>\n",
       "      <td>121</td>\n",
       "      <td>2930</td>\n",
       "      <td>0</td>\n",
       "    </tr>\n",
       "    <tr>\n",
       "      <th>1</th>\n",
       "      <td>8.465689</td>\n",
       "      <td>258</td>\n",
       "      <td>3350</td>\n",
       "      <td>0</td>\n",
       "    </tr>\n",
       "    <tr>\n",
       "      <th>2</th>\n",
       "      <td>8.242493</td>\n",
       "      <td>121</td>\n",
       "      <td>2640</td>\n",
       "      <td>0</td>\n",
       "    </tr>\n",
       "    <tr>\n",
       "      <th>3</th>\n",
       "      <td>8.479699</td>\n",
       "      <td>196</td>\n",
       "      <td>3250</td>\n",
       "      <td>0</td>\n",
       "    </tr>\n",
       "    <tr>\n",
       "      <th>4</th>\n",
       "      <td>8.965335</td>\n",
       "      <td>350</td>\n",
       "      <td>4080</td>\n",
       "      <td>0</td>\n",
       "    </tr>\n",
       "  </tbody>\n",
       "</table>\n",
       "</div>"
      ],
      "text/plain": [
       "      price  displacement  weight  is_Foreign\n",
       "0  8.318498           121    2930           0\n",
       "1  8.465689           258    3350           0\n",
       "2  8.242493           121    2640           0\n",
       "3  8.479699           196    3250           0\n",
       "4  8.965335           350    4080           0"
      ]
     },
     "execution_count": 5,
     "metadata": {},
     "output_type": "execute_result"
    }
   ],
   "source": [
    "new_df = df.loc[:, ['price', 'displacement', 'weight', 'foreign']]\n",
    "new_df = pd.get_dummies(new_df, columns=['foreign'], prefix=['is'], drop_first=True).dropna()\n",
    "new_df['price'] = np.log(new_df['price'])\n",
    "new_df.head()"
   ]
  },
  {
   "cell_type": "markdown",
   "metadata": {},
   "source": [
    "- Расскажите немного, почему вы выбрали именно эти переменные\n",
    "- Какие зависимости вы ожидали увидеть? Можете подкрепить свои гипотезы графиками\n",
    "- Как зависимости в итоге увидели? Как вы считаете почему?"
   ]
  },
  {
   "cell_type": "markdown",
   "metadata": {},
   "source": [
    "Для модели я выбрала переменные **displacement**, **weight** и **foreign**, потому что разумной гипотезой является то, что на цену автомобился влияют различные его характеристики: физические (объём двигателя), габаритные (вес) и производственные (импортный/местный).\n",
    "И можно также предположить, что характеристики из одной группы могут сильно коррелировать между собой, поэтому были включены только по одному представителю.\n",
    "\n",
    "У всех признаков я ожидаю положительную корреляцию с (уже прологарифмированной) целевой переменной (ниже графики), у числовых признаков, возможно, не линейную."
   ]
  },
  {
   "cell_type": "code",
   "execution_count": 6,
   "metadata": {},
   "outputs": [
    {
     "data": {
      "image/png": "[encoded data removed]",
      "text/plain": [
       "<Figure size 432x288 with 1 Axes>"
      ]
     },
     "metadata": {
      "needs_background": "light"
     },
     "output_type": "display_data"
    }
   ],
   "source": [
    "plt.scatter(new_df['displacement'], new_df['price']);"
   ]
  },
  {
   "cell_type": "code",
   "execution_count": 7,
   "metadata": {},
   "outputs": [
    {
     "data": {
      "image/png": "[encoded data removed]",
      "text/plain": [
       "<Figure size 432x288 with 1 Axes>"
      ]
     },
     "metadata": {
      "needs_background": "light"
     },
     "output_type": "display_data"
    }
   ],
   "source": [
    "plt.scatter(new_df['weight'], new_df['price']);"
   ]
  },
  {
   "cell_type": "markdown",
   "metadata": {},
   "source": [
    "Видим положительные зависимости, с этого и начнём.\n",
    "Как вариант, можно будет попробовать поменять функциональную форму для некоторых признаков (например, для weight можно взять логарифм, даже интерпретируется неплохо)."
   ]
  },
  {
   "cell_type": "markdown",
   "metadata": {},
   "source": [
    "- Теперь же давайте посмотрим на данную модель немного скептически\n",
    "- Вы прошли предпосылки теоремы Г.М. и знаете о том, как тестировать на наличие нарушений этих предпосылок, как исправлять их, если возможно, и какие последствия они могут нести\n",
    "- Собственно, давайте их и проверим"
   ]
  },
  {
   "cell_type": "markdown",
   "metadata": {},
   "source": [
    "- Перед тем как бездумно проверять на все подряд, предположите, какие именно предпосылки могут быть нарушение\n",
    "- Обоснуйте свои предпосылки. Почему вы так считаете? \n",
    "- Какие еще графики можно построить, чтобы сделать диагностику модели?\n",
    "- Можно ли как-то \"починить\" модель, если было обнаружено нарушение предпосылки теоремы Г.М.? \n",
    "- Все ли нарушения предпосылок вы проверили? "
   ]
  },
  {
   "cell_type": "markdown",
   "metadata": {},
   "source": [
    "Во-первых, ожидаю корреляцию между признаками.\n",
    "Логично предположить, что чем больше объём двигателя, тем больше вес машины.\n",
    "Так же возможно, что у иностранных машин объём двигателя отличен в какую-то сторону от о.д. в стране, в которой собраны данные.\n",
    "\n",
    "Также судя по графикам возможна гетероскедастичность.\n",
    "\n",
    "Давайте проверять."
   ]
  },
  {
   "cell_type": "code",
   "execution_count": 8,
   "metadata": {},
   "outputs": [
    {
     "data": {
      "text/html": [
       "<table class=\"simpletable\">\n",
       "<caption>OLS Regression Results</caption>\n",
       "<tr>\n",
       "  <th>Dep. Variable:</th>          <td>price</td>      <th>  R-squared:         </th> <td>   0.562</td>\n",
       "</tr>\n",
       "<tr>\n",
       "  <th>Model:</th>                   <td>OLS</td>       <th>  Adj. R-squared:    </th> <td>   0.543</td>\n",
       "</tr>\n",
       "<tr>\n",
       "  <th>Method:</th>             <td>Least Squares</td>  <th>  F-statistic:       </th> <td>   29.96</td>\n",
       "</tr>\n",
       "<tr>\n",
       "  <th>Date:</th>             <td>Sat, 18 Mar 2023</td> <th>  Prob (F-statistic):</th> <td>1.42e-12</td>\n",
       "</tr>\n",
       "<tr>\n",
       "  <th>Time:</th>                 <td>01:34:10</td>     <th>  Log-Likelihood:    </th> <td> -4.6548</td>\n",
       "</tr>\n",
       "<tr>\n",
       "  <th>No. Observations:</th>      <td>    74</td>      <th>  AIC:               </th> <td>   17.31</td>\n",
       "</tr>\n",
       "<tr>\n",
       "  <th>Df Residuals:</th>          <td>    70</td>      <th>  BIC:               </th> <td>   26.53</td>\n",
       "</tr>\n",
       "<tr>\n",
       "  <th>Df Model:</th>              <td>     3</td>      <th>                     </th>     <td> </td>   \n",
       "</tr>\n",
       "<tr>\n",
       "  <th>Covariance Type:</th>      <td>nonrobust</td>    <th>                     </th>     <td> </td>   \n",
       "</tr>\n",
       "</table>\n",
       "<table class=\"simpletable\">\n",
       "<tr>\n",
       "        <td></td>          <th>coef</th>     <th>std err</th>      <th>t</th>      <th>P>|t|</th>  <th>[0.025</th>    <th>0.975]</th>  \n",
       "</tr>\n",
       "<tr>\n",
       "  <th>Intercept</th>    <td>    7.1930</td> <td>    0.182</td> <td>   39.619</td> <td> 0.000</td> <td>    6.831</td> <td>    7.555</td>\n",
       "</tr>\n",
       "<tr>\n",
       "  <th>displacement</th> <td>    0.0012</td> <td>    0.001</td> <td>    1.505</td> <td> 0.137</td> <td>   -0.000</td> <td>    0.003</td>\n",
       "</tr>\n",
       "<tr>\n",
       "  <th>weight</th>       <td>    0.0003</td> <td> 9.01e-05</td> <td>    3.855</td> <td> 0.000</td> <td>    0.000</td> <td>    0.001</td>\n",
       "</tr>\n",
       "<tr>\n",
       "  <th>is_Foreign</th>   <td>    0.5653</td> <td>    0.086</td> <td>    6.572</td> <td> 0.000</td> <td>    0.394</td> <td>    0.737</td>\n",
       "</tr>\n",
       "</table>\n",
       "<table class=\"simpletable\">\n",
       "<tr>\n",
       "  <th>Omnibus:</th>       <td> 5.425</td> <th>  Durbin-Watson:     </th> <td>   1.594</td>\n",
       "</tr>\n",
       "<tr>\n",
       "  <th>Prob(Omnibus):</th> <td> 0.066</td> <th>  Jarque-Bera (JB):  </th> <td>   5.251</td>\n",
       "</tr>\n",
       "<tr>\n",
       "  <th>Skew:</th>          <td> 0.652</td> <th>  Prob(JB):          </th> <td>  0.0724</td>\n",
       "</tr>\n",
       "<tr>\n",
       "  <th>Kurtosis:</th>      <td> 2.948</td> <th>  Cond. No.          </th> <td>1.91e+04</td>\n",
       "</tr>\n",
       "</table><br/><br/>Notes:<br/>[1] Standard Errors assume that the covariance matrix of the errors is correctly specified.<br/>[2] The condition number is large, 1.91e+04. This might indicate that there are<br/>strong multicollinearity or other numerical problems."
      ],
      "text/plain": [
       "<class 'statsmodels.iolib.summary.Summary'>\n",
       "\"\"\"\n",
       "                            OLS Regression Results                            \n",
       "==============================================================================\n",
       "Dep. Variable:                  price   R-squared:                       0.562\n",
       "Model:                            OLS   Adj. R-squared:                  0.543\n",
       "Method:                 Least Squares   F-statistic:                     29.96\n",
       "Date:                Sat, 18 Mar 2023   Prob (F-statistic):           1.42e-12\n",
       "Time:                        01:34:10   Log-Likelihood:                -4.6548\n",
       "No. Observations:                  74   AIC:                             17.31\n",
       "Df Residuals:                      70   BIC:                             26.53\n",
       "Df Model:                           3                                         \n",
       "Covariance Type:            nonrobust                                         \n",
       "================================================================================\n",
       "                   coef    std err          t      P>|t|      [0.025      0.975]\n",
       "--------------------------------------------------------------------------------\n",
       "Intercept        7.1930      0.182     39.619      0.000       6.831       7.555\n",
       "displacement     0.0012      0.001      1.505      0.137      -0.000       0.003\n",
       "weight           0.0003   9.01e-05      3.855      0.000       0.000       0.001\n",
       "is_Foreign       0.5653      0.086      6.572      0.000       0.394       0.737\n",
       "==============================================================================\n",
       "Omnibus:                        5.425   Durbin-Watson:                   1.594\n",
       "Prob(Omnibus):                  0.066   Jarque-Bera (JB):                5.251\n",
       "Skew:                           0.652   Prob(JB):                       0.0724\n",
       "Kurtosis:                       2.948   Cond. No.                     1.91e+04\n",
       "==============================================================================\n",
       "\n",
       "Notes:\n",
       "[1] Standard Errors assume that the covariance matrix of the errors is correctly specified.\n",
       "[2] The condition number is large, 1.91e+04. This might indicate that there are\n",
       "strong multicollinearity or other numerical problems.\n",
       "\"\"\""
      ]
     },
     "execution_count": 8,
     "metadata": {},
     "output_type": "execute_result"
    }
   ],
   "source": [
    "model1 = smf.ols('price ~ displacement + weight + is_Foreign', new_df).fit()\n",
    "model1.summary()"
   ]
  },
  {
   "cell_type": "code",
   "execution_count": 9,
   "metadata": {},
   "outputs": [
    {
     "data": {
      "text/plain": [
       "25.920858369504597"
      ]
     },
     "execution_count": 9,
     "metadata": {},
     "output_type": "execute_result"
    }
   ],
   "source": [
    "variance_inflation_factor(new_df.iloc[:, 1:], 0)"
   ]
  },
  {
   "cell_type": "markdown",
   "metadata": {},
   "source": [
    "Видим подозрение на мультиколлинеарность, давайте попробуем выкинуть признак displacement (f-test счёл его незначимым + vif у него высокий)."
   ]
  },
  {
   "cell_type": "code",
   "execution_count": 10,
   "metadata": {},
   "outputs": [
    {
     "data": {
      "text/html": [
       "<table class=\"simpletable\">\n",
       "<caption>OLS Regression Results</caption>\n",
       "<tr>\n",
       "  <th>Dep. Variable:</th>          <td>price</td>      <th>  R-squared:         </th> <td>   0.548</td>\n",
       "</tr>\n",
       "<tr>\n",
       "  <th>Model:</th>                   <td>OLS</td>       <th>  Adj. R-squared:    </th> <td>   0.535</td>\n",
       "</tr>\n",
       "<tr>\n",
       "  <th>Method:</th>             <td>Least Squares</td>  <th>  F-statistic:       </th> <td>   43.05</td>\n",
       "</tr>\n",
       "<tr>\n",
       "  <th>Date:</th>             <td>Sat, 18 Mar 2023</td> <th>  Prob (F-statistic):</th> <td>5.70e-13</td>\n",
       "</tr>\n",
       "<tr>\n",
       "  <th>Time:</th>                 <td>01:34:10</td>     <th>  Log-Likelihood:    </th> <td> -5.8335</td>\n",
       "</tr>\n",
       "<tr>\n",
       "  <th>No. Observations:</th>      <td>    74</td>      <th>  AIC:               </th> <td>   17.67</td>\n",
       "</tr>\n",
       "<tr>\n",
       "  <th>Df Residuals:</th>          <td>    71</td>      <th>  BIC:               </th> <td>   24.58</td>\n",
       "</tr>\n",
       "<tr>\n",
       "  <th>Df Model:</th>              <td>     2</td>      <th>                     </th>     <td> </td>   \n",
       "</tr>\n",
       "<tr>\n",
       "  <th>Covariance Type:</th>      <td>nonrobust</td>    <th>                     </th>     <td> </td>   \n",
       "</tr>\n",
       "</table>\n",
       "<table class=\"simpletable\">\n",
       "<tr>\n",
       "       <td></td>         <th>coef</th>     <th>std err</th>      <th>t</th>      <th>P>|t|</th>  <th>[0.025</th>    <th>0.975]</th>  \n",
       "</tr>\n",
       "<tr>\n",
       "  <th>Intercept</th>  <td>    7.0909</td> <td>    0.170</td> <td>   41.737</td> <td> 0.000</td> <td>    6.752</td> <td>    7.430</td>\n",
       "</tr>\n",
       "<tr>\n",
       "  <th>weight</th>     <td>    0.0005</td> <td>    5e-05</td> <td>    9.214</td> <td> 0.000</td> <td>    0.000</td> <td>    0.001</td>\n",
       "</tr>\n",
       "<tr>\n",
       "  <th>is_Foreign</th> <td>    0.5353</td> <td>    0.084</td> <td>    6.341</td> <td> 0.000</td> <td>    0.367</td> <td>    0.704</td>\n",
       "</tr>\n",
       "</table>\n",
       "<table class=\"simpletable\">\n",
       "<tr>\n",
       "  <th>Omnibus:</th>       <td> 6.065</td> <th>  Durbin-Watson:     </th> <td>   1.571</td>\n",
       "</tr>\n",
       "<tr>\n",
       "  <th>Prob(Omnibus):</th> <td> 0.048</td> <th>  Jarque-Bera (JB):  </th> <td>   5.990</td>\n",
       "</tr>\n",
       "<tr>\n",
       "  <th>Skew:</th>          <td> 0.696</td> <th>  Prob(JB):          </th> <td>  0.0500</td>\n",
       "</tr>\n",
       "<tr>\n",
       "  <th>Kurtosis:</th>      <td> 2.936</td> <th>  Cond. No.          </th> <td>1.81e+04</td>\n",
       "</tr>\n",
       "</table><br/><br/>Notes:<br/>[1] Standard Errors assume that the covariance matrix of the errors is correctly specified.<br/>[2] The condition number is large, 1.81e+04. This might indicate that there are<br/>strong multicollinearity or other numerical problems."
      ],
      "text/plain": [
       "<class 'statsmodels.iolib.summary.Summary'>\n",
       "\"\"\"\n",
       "                            OLS Regression Results                            \n",
       "==============================================================================\n",
       "Dep. Variable:                  price   R-squared:                       0.548\n",
       "Model:                            OLS   Adj. R-squared:                  0.535\n",
       "Method:                 Least Squares   F-statistic:                     43.05\n",
       "Date:                Sat, 18 Mar 2023   Prob (F-statistic):           5.70e-13\n",
       "Time:                        01:34:10   Log-Likelihood:                -5.8335\n",
       "No. Observations:                  74   AIC:                             17.67\n",
       "Df Residuals:                      71   BIC:                             24.58\n",
       "Df Model:                           2                                         \n",
       "Covariance Type:            nonrobust                                         \n",
       "==============================================================================\n",
       "                 coef    std err          t      P>|t|      [0.025      0.975]\n",
       "------------------------------------------------------------------------------\n",
       "Intercept      7.0909      0.170     41.737      0.000       6.752       7.430\n",
       "weight         0.0005      5e-05      9.214      0.000       0.000       0.001\n",
       "is_Foreign     0.5353      0.084      6.341      0.000       0.367       0.704\n",
       "==============================================================================\n",
       "Omnibus:                        6.065   Durbin-Watson:                   1.571\n",
       "Prob(Omnibus):                  0.048   Jarque-Bera (JB):                5.990\n",
       "Skew:                           0.696   Prob(JB):                       0.0500\n",
       "Kurtosis:                       2.936   Cond. No.                     1.81e+04\n",
       "==============================================================================\n",
       "\n",
       "Notes:\n",
       "[1] Standard Errors assume that the covariance matrix of the errors is correctly specified.\n",
       "[2] The condition number is large, 1.81e+04. This might indicate that there are\n",
       "strong multicollinearity or other numerical problems.\n",
       "\"\"\""
      ]
     },
     "execution_count": 10,
     "metadata": {},
     "output_type": "execute_result"
    }
   ],
   "source": [
    "model2 = smf.ols('price ~ weight + is_Foreign', new_df).fit()\n",
    "model2.summary()"
   ]
  },
  {
   "cell_type": "markdown",
   "metadata": {},
   "source": [
    "Проблему мы не решили, но интересное замечание, что коэффициенты модели не сильно изменились и ведут себя довольно стабильно.\n",
    "Давайте вернёмся к изначальным признакам и проверим модель на выполнимость остальных предпосылок теоремы Г-М. \n",
    "Такое решение было принятно исходя из того, что мультиколлинеарность не всегда портит оценки, и, как мы увидели, удаление незначимого признака не привело ни к чему.\n",
    "\n",
    "Давайте проверим на гетероскедастичность с помощью white теста."
   ]
  },
  {
   "cell_type": "code",
   "execution_count": 11,
   "metadata": {},
   "outputs": [
    {
     "data": {
      "image/png": "[encoded data removed]",
      "text/plain": [
       "<Figure size 432x288 with 1 Axes>"
      ]
     },
     "metadata": {
      "needs_background": "light"
     },
     "output_type": "display_data"
    }
   ],
   "source": [
    "model1.resid.plot();"
   ]
  },
  {
   "cell_type": "code",
   "execution_count": 12,
   "metadata": {},
   "outputs": [
    {
     "data": {
      "text/plain": [
       "(8.86577304993102, 0.35374551607039684, 1.105937836429841, 0.3709788537311089)"
      ]
     },
     "execution_count": 12,
     "metadata": {},
     "output_type": "execute_result"
    }
   ],
   "source": [
    "sm.stats.diagnostic.het_white(model1.resid, sm.add_constant(new_df.iloc[:, 1:]))"
   ]
  },
  {
   "cell_type": "markdown",
   "metadata": {},
   "source": [
    "Видим, что тест не отверг гипотезу о гомоскедастичности, поэтому будем считать, что это условие Г-М выполнено.\n",
    "\n",
    "Посчитаем среднее ошибок."
   ]
  },
  {
   "cell_type": "code",
   "execution_count": 13,
   "metadata": {},
   "outputs": [
    {
     "data": {
      "image/png": "[encoded data removed]",
      "text/plain": [
       "<Figure size 432x288 with 1 Axes>"
      ]
     },
     "metadata": {
      "needs_background": "light"
     },
     "output_type": "display_data"
    }
   ],
   "source": [
    "model1.resid.hist();"
   ]
  },
  {
   "cell_type": "code",
   "execution_count": 14,
   "metadata": {},
   "outputs": [
    {
     "data": {
      "text/plain": [
       "5.2078461663227615e-14"
      ]
     },
     "execution_count": 14,
     "metadata": {},
     "output_type": "execute_result"
    }
   ],
   "source": [
    "np.mean(model1.resid)"
   ]
  },
  {
   "cell_type": "markdown",
   "metadata": {},
   "source": [
    "Видим, что среднее около нуля (значений достаточно, чтобы ЗБЧ работал, поэтому среднее является хорошей оценкой для матожа в данном случае).\n",
    "\n",
    "Также нет обоснований считать объясняющие переменные эндогенными, так как вряд ли какая-то из них скореллирована с ошибкой. \n",
    "Точности же измерений поверим, так как скорее всего это характеристики, за которые отвечает производитель.\n",
    "\n",
    "Итак, проверили все предпосылки Г-М, модель не удовлетворяет только мультиколлинеарности, но в остальном имеет за собой хорошую бизнес-логику.\n",
    "Перед тем, как удовлетворится результатам, давайте поэкспериментируем с функциональной формой модели (график ошибок мне не очень понравился, хотя тест Уайта не показал наличие гетероскедастичности), по следующим графикам у меня лично возникает желание взять логарифм от **displacement** и **weight**."
   ]
  },
  {
   "cell_type": "code",
   "execution_count": 15,
   "metadata": {},
   "outputs": [
    {
     "data": {
      "image/png": "[encoded data removed]",
      "text/plain": [
       "<Figure size 432x288 with 1 Axes>"
      ]
     },
     "metadata": {
      "needs_background": "light"
     },
     "output_type": "display_data"
    }
   ],
   "source": [
    "plt.scatter(np.log(new_df['displacement']), new_df['price']);"
   ]
  },
  {
   "cell_type": "code",
   "execution_count": 16,
   "metadata": {},
   "outputs": [
    {
     "data": {
      "image/png": "[encoded data removed]",
      "text/plain": [
       "<Figure size 432x288 with 1 Axes>"
      ]
     },
     "metadata": {
      "needs_background": "light"
     },
     "output_type": "display_data"
    }
   ],
   "source": [
    "plt.scatter(np.log(new_df['weight']), new_df['price']);"
   ]
  },
  {
   "cell_type": "code",
   "execution_count": 17,
   "metadata": {},
   "outputs": [
    {
     "data": {
      "text/html": [
       "<table class=\"simpletable\">\n",
       "<caption>OLS Regression Results</caption>\n",
       "<tr>\n",
       "  <th>Dep. Variable:</th>          <td>price</td>      <th>  R-squared:         </th> <td>   0.502</td>\n",
       "</tr>\n",
       "<tr>\n",
       "  <th>Model:</th>                   <td>OLS</td>       <th>  Adj. R-squared:    </th> <td>   0.481</td>\n",
       "</tr>\n",
       "<tr>\n",
       "  <th>Method:</th>             <td>Least Squares</td>  <th>  F-statistic:       </th> <td>   23.52</td>\n",
       "</tr>\n",
       "<tr>\n",
       "  <th>Date:</th>             <td>Sat, 18 Mar 2023</td> <th>  Prob (F-statistic):</th> <td>1.23e-10</td>\n",
       "</tr>\n",
       "<tr>\n",
       "  <th>Time:</th>                 <td>01:34:11</td>     <th>  Log-Likelihood:    </th> <td> -9.4241</td>\n",
       "</tr>\n",
       "<tr>\n",
       "  <th>No. Observations:</th>      <td>    74</td>      <th>  AIC:               </th> <td>   26.85</td>\n",
       "</tr>\n",
       "<tr>\n",
       "  <th>Df Residuals:</th>          <td>    70</td>      <th>  BIC:               </th> <td>   36.06</td>\n",
       "</tr>\n",
       "<tr>\n",
       "  <th>Df Model:</th>              <td>     3</td>      <th>                     </th>     <td> </td>   \n",
       "</tr>\n",
       "<tr>\n",
       "  <th>Covariance Type:</th>      <td>nonrobust</td>    <th>                     </th>     <td> </td>   \n",
       "</tr>\n",
       "</table>\n",
       "<table class=\"simpletable\">\n",
       "<tr>\n",
       "            <td></td>              <th>coef</th>     <th>std err</th>      <th>t</th>      <th>P>|t|</th>  <th>[0.025</th>    <th>0.975]</th>  \n",
       "</tr>\n",
       "<tr>\n",
       "  <th>Intercept</th>            <td>   -0.4920</td> <td>    1.654</td> <td>   -0.298</td> <td> 0.767</td> <td>   -3.790</td> <td>    2.806</td>\n",
       "</tr>\n",
       "<tr>\n",
       "  <th>np.log(displacement)</th> <td>    0.2147</td> <td>    0.177</td> <td>    1.213</td> <td> 0.229</td> <td>   -0.138</td> <td>    0.568</td>\n",
       "</tr>\n",
       "<tr>\n",
       "  <th>np.log(weight)</th>       <td>    0.9842</td> <td>    0.295</td> <td>    3.339</td> <td> 0.001</td> <td>    0.396</td> <td>    1.572</td>\n",
       "</tr>\n",
       "<tr>\n",
       "  <th>is_Foreign</th>           <td>    0.5680</td> <td>    0.097</td> <td>    5.866</td> <td> 0.000</td> <td>    0.375</td> <td>    0.761</td>\n",
       "</tr>\n",
       "</table>\n",
       "<table class=\"simpletable\">\n",
       "<tr>\n",
       "  <th>Omnibus:</th>       <td> 6.459</td> <th>  Durbin-Watson:     </th> <td>   1.527</td>\n",
       "</tr>\n",
       "<tr>\n",
       "  <th>Prob(Omnibus):</th> <td> 0.040</td> <th>  Jarque-Bera (JB):  </th> <td>   6.496</td>\n",
       "</tr>\n",
       "<tr>\n",
       "  <th>Skew:</th>          <td> 0.724</td> <th>  Prob(JB):          </th> <td>  0.0389</td>\n",
       "</tr>\n",
       "<tr>\n",
       "  <th>Kurtosis:</th>      <td> 2.903</td> <th>  Cond. No.          </th> <td>    490.</td>\n",
       "</tr>\n",
       "</table><br/><br/>Notes:<br/>[1] Standard Errors assume that the covariance matrix of the errors is correctly specified."
      ],
      "text/plain": [
       "<class 'statsmodels.iolib.summary.Summary'>\n",
       "\"\"\"\n",
       "                            OLS Regression Results                            \n",
       "==============================================================================\n",
       "Dep. Variable:                  price   R-squared:                       0.502\n",
       "Model:                            OLS   Adj. R-squared:                  0.481\n",
       "Method:                 Least Squares   F-statistic:                     23.52\n",
       "Date:                Sat, 18 Mar 2023   Prob (F-statistic):           1.23e-10\n",
       "Time:                        01:34:11   Log-Likelihood:                -9.4241\n",
       "No. Observations:                  74   AIC:                             26.85\n",
       "Df Residuals:                      70   BIC:                             36.06\n",
       "Df Model:                           3                                         \n",
       "Covariance Type:            nonrobust                                         \n",
       "========================================================================================\n",
       "                           coef    std err          t      P>|t|      [0.025      0.975]\n",
       "----------------------------------------------------------------------------------------\n",
       "Intercept               -0.4920      1.654     -0.298      0.767      -3.790       2.806\n",
       "np.log(displacement)     0.2147      0.177      1.213      0.229      -0.138       0.568\n",
       "np.log(weight)           0.9842      0.295      3.339      0.001       0.396       1.572\n",
       "is_Foreign               0.5680      0.097      5.866      0.000       0.375       0.761\n",
       "==============================================================================\n",
       "Omnibus:                        6.459   Durbin-Watson:                   1.527\n",
       "Prob(Omnibus):                  0.040   Jarque-Bera (JB):                6.496\n",
       "Skew:                           0.724   Prob(JB):                       0.0389\n",
       "Kurtosis:                       2.903   Cond. No.                         490.\n",
       "==============================================================================\n",
       "\n",
       "Notes:\n",
       "[1] Standard Errors assume that the covariance matrix of the errors is correctly specified.\n",
       "\"\"\""
      ]
     },
     "execution_count": 17,
     "metadata": {},
     "output_type": "execute_result"
    }
   ],
   "source": [
    "model3 = smf.ols('price ~ np.log(displacement) + np.log(weight) + is_Foreign', new_df).fit()\n",
    "model3.summary()"
   ]
  },
  {
   "cell_type": "code",
   "execution_count": 18,
   "metadata": {},
   "outputs": [
    {
     "data": {
      "image/png": "[encoded data removed]",
      "text/plain": [
       "<Figure size 432x288 with 1 Axes>"
      ]
     },
     "metadata": {
      "needs_background": "light"
     },
     "output_type": "display_data"
    }
   ],
   "source": [
    "model3.resid.plot();"
   ]
  },
  {
   "cell_type": "markdown",
   "metadata": {},
   "source": [
    "Хоть и избавляемся от мультиколлинеарности, но признаки становятся незначимыми + график ошибок не изменился визуально.\n",
    "Так что кажется изменение функциональной формы не принесло пользы."
   ]
  },
  {
   "cell_type": "markdown",
   "metadata": {},
   "source": [
    "- Улучшилась ли ваша моделька?\n",
    "- Как вы считаете, всегда надо \"добивать\" нарушения предпосылок теорему Г.М.? \n",
    "- Что бы вы предпочли, логичную с точки зрения здравого смысла и бизнес сенса модель, но с какими-то нарушениями теоремы Г.М. или же модель, в которой нет нарушений, но при этом совершенно непонятно, почему те или иные переменные в ней оказались? А возможен ли вообще второй случай по вашему мнению?"
   ]
  },
  {
   "cell_type": "markdown",
   "metadata": {},
   "source": [
    "Изначальная моделька оказалась неплоха, но не удовлетворяет всем условиям Г-М.\n",
    "При этом модель хорошо интерпретируется и охватывает различные характеристики автомобиля.\n",
    "\n",
    "Если смотреть в общем, то всё-таки хотелось бы, чтобы модель удовлетворяла условиям Г-М, но это почти всегда невозможно хотя бы из соображений эндогенности или наличия гетероскедастичности (вряд ли всегда можно удачно подобрать функциональную форму или ещё как-то исхитриться, чтобы её побороть).\n",
    "Поэтому реалистичный сценарий - соблюдать по максимуму условия теоремы, но и опираться на здравый смысл. \n",
    "В примере выше у модели были коэффициенты, за которыми (на мой взгляд) имеется логика, хотя мультиколлинеарность мы не побороли.\n",
    "\n",
    "Ответ на вопрос \"возможен ли вариант с неинтерпретируемой моделью, которая удовлетворяет всем условиям теоремы\": на мой взгляд да, опять же можно, глядя на данные, подобрать идеальную функциональную форму, которая отлично аппроксимирует выборку, но не несёт за собой особого смысла."
   ]
  },
  {
   "cell_type": "code",
   "execution_count": null,
   "metadata": {},
   "outputs": [],
   "source": []
  }
 ],
 "metadata": {
  "kernelspec": {
   "display_name": "Python 3 (ipykernel)",
   "language": "python",
   "name": "python3"
  },
  "language_info": {
   "codemirror_mode": {
    "name": "ipython",
    "version": 3
   },
   "file_extension": ".py",
   "mimetype": "text/x-python",
   "name": "python",
   "nbconvert_exporter": "python",
   "pygments_lexer": "ipython3",
   "version": "3.9.12"
  },
  "toc": {
   "base_numbering": 1,
   "nav_menu": {},
   "number_sections": true,
   "sideBar": true,
   "skip_h1_title": true,
   "title_cell": "Table of Contents",
   "title_sidebar": "Contents",
   "toc_cell": false,
   "toc_position": {},
   "toc_section_display": true,
   "toc_window_display": false
  },
  "varInspector": {
   "cols": {
    "lenName": 16,
    "lenType": 16,
    "lenVar": 40
   },
   "kernels_config": {
    "python": {
     "delete_cmd_postfix": "",
     "delete_cmd_prefix": "del ",
     "library": "var_list.py",
     "varRefreshCmd": "print(var_dic_list())"
    },
    "r": {
     "delete_cmd_postfix": ") ",
     "delete_cmd_prefix": "rm(",
     "library": "var_list.r",
     "varRefreshCmd": "cat(var_dic_list()) "
    }
   },
   "types_to_exclude": [
    "module",
    "function",
    "builtin_function_or_method",
    "instance",
    "_Feature"
   ],
   "window_display": false
  }
 },
 "nbformat": 4,
 "nbformat_minor": 4
}
