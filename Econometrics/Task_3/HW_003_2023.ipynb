{
 "cells": [
  {
   "cell_type": "markdown",
   "metadata": {},
   "source": [
    "# Академия Аналитиков Авито"
   ]
  },
  {
   "cell_type": "markdown",
   "metadata": {},
   "source": [
    "# Эконометрика"
   ]
  },
  {
   "cell_type": "markdown",
   "metadata": {},
   "source": [
    "# Домашняя работа №3"
   ]
  },
  {
   "cell_type": "markdown",
   "metadata": {},
   "source": [
    "## №1 (40 баллов)"
   ]
  },
  {
   "cell_type": "code",
   "execution_count": 1,
   "metadata": {
    "ExecuteTime": {
     "end_time": "2021-03-24T16:10:59.574137Z",
     "start_time": "2021-03-24T16:10:58.965139Z"
    }
   },
   "outputs": [],
   "source": [
    "import pandas as pd"
   ]
  },
  {
   "cell_type": "code",
   "execution_count": 2,
   "metadata": {
    "ExecuteTime": {
     "end_time": "2021-03-24T16:10:59.628138Z",
     "start_time": "2021-03-24T16:10:59.596141Z"
    },
    "scrolled": true
   },
   "outputs": [],
   "source": [
    "df = pd.read_csv('HW_003_001.txt')"
   ]
  },
  {
   "cell_type": "code",
   "execution_count": 3,
   "metadata": {
    "ExecuteTime": {
     "end_time": "2021-03-24T16:11:00.511513Z",
     "start_time": "2021-03-24T16:11:00.461518Z"
    }
   },
   "outputs": [
    {
     "data": {
      "text/html": [
       "<div>\n",
       "<style scoped>\n",
       "    .dataframe tbody tr th:only-of-type {\n",
       "        vertical-align: middle;\n",
       "    }\n",
       "\n",
       "    .dataframe tbody tr th {\n",
       "        vertical-align: top;\n",
       "    }\n",
       "\n",
       "    .dataframe thead th {\n",
       "        text-align: right;\n",
       "    }\n",
       "</style>\n",
       "<table border=\"1\" class=\"dataframe\">\n",
       "  <thead>\n",
       "    <tr style=\"text-align: right;\">\n",
       "      <th></th>\n",
       "      <th>State</th>\n",
       "      <th>Account length</th>\n",
       "      <th>Area code</th>\n",
       "      <th>International plan</th>\n",
       "      <th>Voice mail plan</th>\n",
       "      <th>Number vmail messages</th>\n",
       "      <th>Total day minutes</th>\n",
       "      <th>Total day calls</th>\n",
       "      <th>Total day charge</th>\n",
       "      <th>Total eve minutes</th>\n",
       "      <th>Total eve calls</th>\n",
       "      <th>Total eve charge</th>\n",
       "      <th>Total night minutes</th>\n",
       "      <th>Total night calls</th>\n",
       "      <th>Total night charge</th>\n",
       "      <th>Total intl minutes</th>\n",
       "      <th>Total intl calls</th>\n",
       "      <th>Total intl charge</th>\n",
       "      <th>Customer service calls</th>\n",
       "      <th>Churn</th>\n",
       "    </tr>\n",
       "  </thead>\n",
       "  <tbody>\n",
       "    <tr>\n",
       "      <th>0</th>\n",
       "      <td>KS</td>\n",
       "      <td>128</td>\n",
       "      <td>415</td>\n",
       "      <td>No</td>\n",
       "      <td>Yes</td>\n",
       "      <td>25</td>\n",
       "      <td>265.1</td>\n",
       "      <td>110</td>\n",
       "      <td>45.07</td>\n",
       "      <td>197.4</td>\n",
       "      <td>99</td>\n",
       "      <td>16.78</td>\n",
       "      <td>244.7</td>\n",
       "      <td>91</td>\n",
       "      <td>11.01</td>\n",
       "      <td>10.0</td>\n",
       "      <td>3</td>\n",
       "      <td>2.70</td>\n",
       "      <td>1</td>\n",
       "      <td>False</td>\n",
       "    </tr>\n",
       "    <tr>\n",
       "      <th>1</th>\n",
       "      <td>OH</td>\n",
       "      <td>107</td>\n",
       "      <td>415</td>\n",
       "      <td>No</td>\n",
       "      <td>Yes</td>\n",
       "      <td>26</td>\n",
       "      <td>161.6</td>\n",
       "      <td>123</td>\n",
       "      <td>27.47</td>\n",
       "      <td>195.5</td>\n",
       "      <td>103</td>\n",
       "      <td>16.62</td>\n",
       "      <td>254.4</td>\n",
       "      <td>103</td>\n",
       "      <td>11.45</td>\n",
       "      <td>13.7</td>\n",
       "      <td>3</td>\n",
       "      <td>3.70</td>\n",
       "      <td>1</td>\n",
       "      <td>False</td>\n",
       "    </tr>\n",
       "    <tr>\n",
       "      <th>2</th>\n",
       "      <td>NJ</td>\n",
       "      <td>137</td>\n",
       "      <td>415</td>\n",
       "      <td>No</td>\n",
       "      <td>No</td>\n",
       "      <td>0</td>\n",
       "      <td>243.4</td>\n",
       "      <td>114</td>\n",
       "      <td>41.38</td>\n",
       "      <td>121.2</td>\n",
       "      <td>110</td>\n",
       "      <td>10.30</td>\n",
       "      <td>162.6</td>\n",
       "      <td>104</td>\n",
       "      <td>7.32</td>\n",
       "      <td>12.2</td>\n",
       "      <td>5</td>\n",
       "      <td>3.29</td>\n",
       "      <td>0</td>\n",
       "      <td>False</td>\n",
       "    </tr>\n",
       "    <tr>\n",
       "      <th>3</th>\n",
       "      <td>OH</td>\n",
       "      <td>84</td>\n",
       "      <td>408</td>\n",
       "      <td>Yes</td>\n",
       "      <td>No</td>\n",
       "      <td>0</td>\n",
       "      <td>299.4</td>\n",
       "      <td>71</td>\n",
       "      <td>50.90</td>\n",
       "      <td>61.9</td>\n",
       "      <td>88</td>\n",
       "      <td>5.26</td>\n",
       "      <td>196.9</td>\n",
       "      <td>89</td>\n",
       "      <td>8.86</td>\n",
       "      <td>6.6</td>\n",
       "      <td>7</td>\n",
       "      <td>1.78</td>\n",
       "      <td>2</td>\n",
       "      <td>False</td>\n",
       "    </tr>\n",
       "    <tr>\n",
       "      <th>4</th>\n",
       "      <td>OK</td>\n",
       "      <td>75</td>\n",
       "      <td>415</td>\n",
       "      <td>Yes</td>\n",
       "      <td>No</td>\n",
       "      <td>0</td>\n",
       "      <td>166.7</td>\n",
       "      <td>113</td>\n",
       "      <td>28.34</td>\n",
       "      <td>148.3</td>\n",
       "      <td>122</td>\n",
       "      <td>12.61</td>\n",
       "      <td>186.9</td>\n",
       "      <td>121</td>\n",
       "      <td>8.41</td>\n",
       "      <td>10.1</td>\n",
       "      <td>3</td>\n",
       "      <td>2.73</td>\n",
       "      <td>3</td>\n",
       "      <td>False</td>\n",
       "    </tr>\n",
       "  </tbody>\n",
       "</table>\n",
       "</div>"
      ],
      "text/plain": [
       "  State  Account length  Area code International plan Voice mail plan  \\\n",
       "0    KS             128        415                 No             Yes   \n",
       "1    OH             107        415                 No             Yes   \n",
       "2    NJ             137        415                 No              No   \n",
       "3    OH              84        408                Yes              No   \n",
       "4    OK              75        415                Yes              No   \n",
       "\n",
       "   Number vmail messages  Total day minutes  Total day calls  \\\n",
       "0                     25              265.1              110   \n",
       "1                     26              161.6              123   \n",
       "2                      0              243.4              114   \n",
       "3                      0              299.4               71   \n",
       "4                      0              166.7              113   \n",
       "\n",
       "   Total day charge  Total eve minutes  Total eve calls  Total eve charge  \\\n",
       "0             45.07              197.4               99             16.78   \n",
       "1             27.47              195.5              103             16.62   \n",
       "2             41.38              121.2              110             10.30   \n",
       "3             50.90               61.9               88              5.26   \n",
       "4             28.34              148.3              122             12.61   \n",
       "\n",
       "   Total night minutes  Total night calls  Total night charge  \\\n",
       "0                244.7                 91               11.01   \n",
       "1                254.4                103               11.45   \n",
       "2                162.6                104                7.32   \n",
       "3                196.9                 89                8.86   \n",
       "4                186.9                121                8.41   \n",
       "\n",
       "   Total intl minutes  Total intl calls  Total intl charge  \\\n",
       "0                10.0                 3               2.70   \n",
       "1                13.7                 3               3.70   \n",
       "2                12.2                 5               3.29   \n",
       "3                 6.6                 7               1.78   \n",
       "4                10.1                 3               2.73   \n",
       "\n",
       "   Customer service calls  Churn  \n",
       "0                       1  False  \n",
       "1                       1  False  \n",
       "2                       0  False  \n",
       "3                       2  False  \n",
       "4                       3  False  "
      ]
     },
     "execution_count": 3,
     "metadata": {},
     "output_type": "execute_result"
    }
   ],
   "source": [
    "df.head()"
   ]
  },
  {
   "cell_type": "code",
   "execution_count": 4,
   "metadata": {
    "ExecuteTime": {
     "end_time": "2021-03-24T16:11:04.406094Z",
     "start_time": "2021-03-24T16:11:04.384084Z"
    }
   },
   "outputs": [
    {
     "name": "stdout",
     "output_type": "stream",
     "text": [
      "<class 'pandas.core.frame.DataFrame'>\n",
      "RangeIndex: 3333 entries, 0 to 3332\n",
      "Data columns (total 20 columns):\n",
      " #   Column                  Non-Null Count  Dtype  \n",
      "---  ------                  --------------  -----  \n",
      " 0   State                   3333 non-null   object \n",
      " 1   Account length          3333 non-null   int64  \n",
      " 2   Area code               3333 non-null   int64  \n",
      " 3   International plan      3333 non-null   object \n",
      " 4   Voice mail plan         3333 non-null   object \n",
      " 5   Number vmail messages   3333 non-null   int64  \n",
      " 6   Total day minutes       3333 non-null   float64\n",
      " 7   Total day calls         3333 non-null   int64  \n",
      " 8   Total day charge        3333 non-null   float64\n",
      " 9   Total eve minutes       3333 non-null   float64\n",
      " 10  Total eve calls         3333 non-null   int64  \n",
      " 11  Total eve charge        3333 non-null   float64\n",
      " 12  Total night minutes     3333 non-null   float64\n",
      " 13  Total night calls       3333 non-null   int64  \n",
      " 14  Total night charge      3333 non-null   float64\n",
      " 15  Total intl minutes      3333 non-null   float64\n",
      " 16  Total intl calls        3333 non-null   int64  \n",
      " 17  Total intl charge       3333 non-null   float64\n",
      " 18  Customer service calls  3333 non-null   int64  \n",
      " 19  Churn                   3333 non-null   bool   \n",
      "dtypes: bool(1), float64(8), int64(8), object(3)\n",
      "memory usage: 498.1+ KB\n"
     ]
    }
   ],
   "source": [
    "df.info()"
   ]
  },
  {
   "cell_type": "code",
   "execution_count": 5,
   "metadata": {
    "ExecuteTime": {
     "end_time": "2021-03-24T16:11:06.781970Z",
     "start_time": "2021-03-24T16:11:06.765964Z"
    }
   },
   "outputs": [],
   "source": [
    "df['International plan'] = df['International plan'].map({'Yes': 1, 'No': 0})\n",
    "df['Voice mail plan'] = df['Voice mail plan'].map({'Yes': 1, 'No': 0})\n",
    "\n",
    "y = df['Churn'].astype('int').values\n",
    "X = df.drop('Churn', axis=1).values"
   ]
  },
  {
   "cell_type": "markdown",
   "metadata": {},
   "source": [
    "- Ваше задание\n",
    "    - Провести EDA анализ признаков, которые есть\n",
    "    - Подумать над feature engineering, сформировать гипотезы\n",
    "    - Зафиттить логистическую модель и пробит модель\n",
    "    - Посмотреть на их метрики качества: псевдо $R^2$, confusion matrix, precision, recall, F1-score, ROC AUC\n",
    "    - Какую модель вы бы выбрали?\n",
    "    - Посмотреть на профиль среднего \"клиента\" (наблюдения). Какие переменные надо изменить, чтобы верояность ухода клиента снизилась?\n",
    "    - Перейдем к предсказаниям:\n",
    "        - У вас не всегда будут функции типа `LogisticRegressionCV`, поэтому почитайте про [`GridSearchCV`](https://scikit-learn.org/stable/modules/generated/sklearn.model_selection.GridSearchCV.html)\n",
    "        - Подумайте, какие еще признаки можно добавить в вашу модель. На этом этапе не бойтесь кол-ва признаков, чем больше, тем лучше. *{Дополнительно: почитайте про [`RFECV`](https://scikit-learn.org/stable/auto_examples/feature_selection/plot_rfe_with_cross_validation.html#sphx-glr-auto-examples-feature-selection-plot-rfe-with-cross-validation-py), попробуйте его применить}*\n",
    "        - При наличии достаточного кол-ва наблюдений, хорошей стратегией является использование только части данных для расчета модели. Используя [`train_test_split`](https://scikit-learn.org/stable/modules/generated/sklearn.model_selection.train_test_split.html) выделите наблюдения для обучения.\n",
    "        - Создайте стратифицированные фолды на обучающей выборке\n",
    "        - На практике нам приходится выбирать между различными метриками качества. В этой задаче будем использовать ROC AUC\n",
    "        - Используя `GridSearchCV` и [LogisticRegression](https://scikit-learn.org/stable/modules/generated/sklearn.linear_model.LogisticRegression.html?highlight=logisticregression#sklearn.linear_model.LogisticRegression) подберите оптимальный гиперпараметр для l1, l2 регуляризаций. Помните, что вы хотите, чтобы оптимальный гиперпараметр был выбран согласно метрике ROC AUC. Почитайте, как это сделать в GridSearchCV\n",
    "        - Нарисуйте графики, как меняется ваш score в зависимости от значения гиперпараметра"
   ]
  },
  {
   "cell_type": "code",
   "execution_count": 6,
   "metadata": {},
   "outputs": [],
   "source": [
    "import matplotlib.pyplot as plt\n",
    "import numpy as np\n",
    "import seaborn as sns\n",
    "import statsmodels.api as sm\n",
    "from sklearn.metrics import confusion_matrix, roc_curve, auc, f1_score"
   ]
  },
  {
   "cell_type": "code",
   "execution_count": 7,
   "metadata": {},
   "outputs": [
    {
     "data": {
      "image/png": "[encoded data removed]",
      "text/plain": [
       "<Figure size 432x288 with 1 Axes>"
      ]
     },
     "metadata": {
      "needs_background": "light"
     },
     "output_type": "display_data"
    },
    {
     "data": {
      "image/png": "[encoded data removed]",
      "text/plain": [
       "<Figure size 432x288 with 1 Axes>"
      ]
     },
     "metadata": {
      "needs_background": "light"
     },
     "output_type": "display_data"
    },
    {
     "data": {
      "image/png": "[encoded data removed]",
      "text/plain": [
       "<Figure size 432x288 with 1 Axes>"
      ]
     },
     "metadata": {
      "needs_background": "light"
     },
     "output_type": "display_data"
    },
    {
     "data": {
      "image/png": "[encoded data removed]",
      "text/plain": [
       "<Figure size 432x288 with 1 Axes>"
      ]
     },
     "metadata": {
      "needs_background": "light"
     },
     "output_type": "display_data"
    },
    {
     "data": {
      "image/png": "[encoded data removed]",
      "text/plain": [
       "<Figure size 432x288 with 1 Axes>"
      ]
     },
     "metadata": {
      "needs_background": "light"
     },
     "output_type": "display_data"
    },
    {
     "data": {
      "image/png": "[encoded data removed]",
      "text/plain": [
       "<Figure size 432x288 with 1 Axes>"
      ]
     },
     "metadata": {
      "needs_background": "light"
     },
     "output_type": "display_data"
    },
    {
     "data": {
      "image/png": "[encoded data removed]",
      "text/plain": [
       "<Figure size 432x288 with 1 Axes>"
      ]
     },
     "metadata": {
      "needs_background": "light"
     },
     "output_type": "display_data"
    },
    {
     "data": {
      "image/png": "[encoded data removed]",
      "text/plain": [
       "<Figure size 432x288 with 1 Axes>"
      ]
     },
     "metadata": {
      "needs_background": "light"
     },
     "output_type": "display_data"
    },
    {
     "data": {
      "image/png": "[encoded data removed]",
      "text/plain": [
       "<Figure size 432x288 with 1 Axes>"
      ]
     },
     "metadata": {
      "needs_background": "light"
     },
     "output_type": "display_data"
    },
    {
     "data": {
      "image/png": "[encoded data removed]",
      "text/plain": [
       "<Figure size 432x288 with 1 Axes>"
      ]
     },
     "metadata": {
      "needs_background": "light"
     },
     "output_type": "display_data"
    },
    {
     "data": {
      "image/png": "[encoded data removed]",
      "text/plain": [
       "<Figure size 432x288 with 1 Axes>"
      ]
     },
     "metadata": {
      "needs_background": "light"
     },
     "output_type": "display_data"
    },
    {
     "data": {
      "image/png": "[encoded data removed]",
      "text/plain": [
       "<Figure size 432x288 with 1 Axes>"
      ]
     },
     "metadata": {
      "needs_background": "light"
     },
     "output_type": "display_data"
    },
    {
     "data": {
      "image/png": "[encoded data removed]",
      "text/plain": [
       "<Figure size 432x288 with 1 Axes>"
      ]
     },
     "metadata": {
      "needs_background": "light"
     },
     "output_type": "display_data"
    },
    {
     "data": {
      "image/png": "[encoded data removed]",
      "text/plain": [
       "<Figure size 432x288 with 1 Axes>"
      ]
     },
     "metadata": {
      "needs_background": "light"
     },
     "output_type": "display_data"
    },
    {
     "data": {
      "image/png": "[encoded data removed]",
      "text/plain": [
       "<Figure size 432x288 with 1 Axes>"
      ]
     },
     "metadata": {
      "needs_background": "light"
     },
     "output_type": "display_data"
    },
    {
     "data": {
      "image/png": "[encoded data removed]",
      "text/plain": [
       "<Figure size 432x288 with 1 Axes>"
      ]
     },
     "metadata": {
      "needs_background": "light"
     },
     "output_type": "display_data"
    },
    {
     "data": {
      "image/png": "[encoded data removed]",
      "text/plain": [
       "<Figure size 432x288 with 1 Axes>"
      ]
     },
     "metadata": {
      "needs_background": "light"
     },
     "output_type": "display_data"
    },
    {
     "data": {
      "image/png": "[encoded data removed]",
      "text/plain": [
       "<Figure size 432x288 with 1 Axes>"
      ]
     },
     "metadata": {
      "needs_background": "light"
     },
     "output_type": "display_data"
    }
   ],
   "source": [
    "for column in df.columns[1:-1]:\n",
    "    plt.title(column)\n",
    "    plt.hist(df[column])\n",
    "    plt.show()"
   ]
  },
  {
   "cell_type": "code",
   "execution_count": 8,
   "metadata": {},
   "outputs": [
    {
     "data": {
      "image/png": "[encoded data removed]",
      "text/plain": [
       "<Figure size 432x288 with 2 Axes>"
      ]
     },
     "metadata": {
      "needs_background": "light"
     },
     "output_type": "display_data"
    }
   ],
   "source": [
    "sns.heatmap(df.corr());"
   ]
  },
  {
   "cell_type": "markdown",
   "metadata": {},
   "source": [
    "На данном этапе оставим только признаки, которые коррелируют с целевой переменной. \n",
    "Это достаточно интуитивные признаки, например, подключены ли роуминг/голосовая почта, сколько обращений было в службу поддержки, как много минут абонент тратил на звонки в течение суток.\n",
    "\n",
    "Гипотеза в том, что такие признаки, как наличие роуминга и большего числа обращений в поддержку положительно влияют на отток (например, при поездке вне зоны обслуживания мобильного оператора качество услуг резко падает, а большое кол-во звонков в поддержку может означать то, что клиент часто сталкивается с проблемами или ему их медленно решают). \n",
    "Наличие голосовой почты кажется удобной услугой и вероятно снижает отток.\n",
    "Про остальные признаки сложно сказать, но вероятно, что если люди отказываются от услуг оператора, значит им важна качественная мобильная связь и у них уже сложился негативный опыт взаимодействия с текущим оператором, то есть количество проговорённых минут должно быть выше среднего."
   ]
  },
  {
   "cell_type": "code",
   "execution_count": 9,
   "metadata": {},
   "outputs": [],
   "source": [
    "new_df = df.loc[:, ['International plan', 'Voice mail plan', \n",
    "                    'Total day minutes', 'Total eve minutes', \n",
    "                    'Total night minutes', 'Total intl minutes', \n",
    "                    'Total intl calls', 'Customer service calls']]"
   ]
  },
  {
   "cell_type": "code",
   "execution_count": 10,
   "metadata": {},
   "outputs": [
    {
     "name": "stdout",
     "output_type": "stream",
     "text": [
      "Optimization terminated successfully.\n",
      "         Current function value: 0.324865\n",
      "         Iterations 7\n"
     ]
    },
    {
     "data": {
      "text/html": [
       "<table class=\"simpletable\">\n",
       "<caption>Logit Regression Results</caption>\n",
       "<tr>\n",
       "  <th>Dep. Variable:</th>           <td>y</td>        <th>  No. Observations:  </th>   <td>  3333</td>  \n",
       "</tr>\n",
       "<tr>\n",
       "  <th>Model:</th>                 <td>Logit</td>      <th>  Df Residuals:      </th>   <td>  3324</td>  \n",
       "</tr>\n",
       "<tr>\n",
       "  <th>Method:</th>                 <td>MLE</td>       <th>  Df Model:          </th>   <td>     8</td>  \n",
       "</tr>\n",
       "<tr>\n",
       "  <th>Date:</th>            <td>Mon, 27 Mar 2023</td> <th>  Pseudo R-squ.:     </th>   <td>0.2149</td>  \n",
       "</tr>\n",
       "<tr>\n",
       "  <th>Time:</th>                <td>21:41:42</td>     <th>  Log-Likelihood:    </th>  <td> -1082.8</td> \n",
       "</tr>\n",
       "<tr>\n",
       "  <th>converged:</th>             <td>True</td>       <th>  LL-Null:           </th>  <td> -1379.1</td> \n",
       "</tr>\n",
       "<tr>\n",
       "  <th>Covariance Type:</th>     <td>nonrobust</td>    <th>  LLR p-value:       </th> <td>8.484e-123</td>\n",
       "</tr>\n",
       "</table>\n",
       "<table class=\"simpletable\">\n",
       "<tr>\n",
       "             <td></td>               <th>coef</th>     <th>std err</th>      <th>z</th>      <th>P>|z|</th>  <th>[0.025</th>    <th>0.975]</th>  \n",
       "</tr>\n",
       "<tr>\n",
       "  <th>const</th>                  <td>   -8.0480</td> <td>    0.514</td> <td>  -15.648</td> <td> 0.000</td> <td>   -9.056</td> <td>   -7.040</td>\n",
       "</tr>\n",
       "<tr>\n",
       "  <th>International plan</th>     <td>    2.0419</td> <td>    0.145</td> <td>   14.066</td> <td> 0.000</td> <td>    1.757</td> <td>    2.326</td>\n",
       "</tr>\n",
       "<tr>\n",
       "  <th>Voice mail plan</th>        <td>   -0.9381</td> <td>    0.145</td> <td>   -6.478</td> <td> 0.000</td> <td>   -1.222</td> <td>   -0.654</td>\n",
       "</tr>\n",
       "<tr>\n",
       "  <th>Total day minutes</th>      <td>    0.0130</td> <td>    0.001</td> <td>   12.018</td> <td> 0.000</td> <td>    0.011</td> <td>    0.015</td>\n",
       "</tr>\n",
       "<tr>\n",
       "  <th>Total eve minutes</th>      <td>    0.0072</td> <td>    0.001</td> <td>    6.283</td> <td> 0.000</td> <td>    0.005</td> <td>    0.009</td>\n",
       "</tr>\n",
       "<tr>\n",
       "  <th>Total night minutes</th>    <td>    0.0037</td> <td>    0.001</td> <td>    3.308</td> <td> 0.001</td> <td>    0.001</td> <td>    0.006</td>\n",
       "</tr>\n",
       "<tr>\n",
       "  <th>Total intl minutes</th>     <td>    0.0874</td> <td>    0.020</td> <td>    4.296</td> <td> 0.000</td> <td>    0.048</td> <td>    0.127</td>\n",
       "</tr>\n",
       "<tr>\n",
       "  <th>Total intl calls</th>       <td>   -0.0914</td> <td>    0.025</td> <td>   -3.664</td> <td> 0.000</td> <td>   -0.140</td> <td>   -0.043</td>\n",
       "</tr>\n",
       "<tr>\n",
       "  <th>Customer service calls</th> <td>    0.5126</td> <td>    0.039</td> <td>   13.109</td> <td> 0.000</td> <td>    0.436</td> <td>    0.589</td>\n",
       "</tr>\n",
       "</table>"
      ],
      "text/plain": [
       "<class 'statsmodels.iolib.summary.Summary'>\n",
       "\"\"\"\n",
       "                           Logit Regression Results                           \n",
       "==============================================================================\n",
       "Dep. Variable:                      y   No. Observations:                 3333\n",
       "Model:                          Logit   Df Residuals:                     3324\n",
       "Method:                           MLE   Df Model:                            8\n",
       "Date:                Mon, 27 Mar 2023   Pseudo R-squ.:                  0.2149\n",
       "Time:                        21:41:42   Log-Likelihood:                -1082.8\n",
       "converged:                       True   LL-Null:                       -1379.1\n",
       "Covariance Type:            nonrobust   LLR p-value:                8.484e-123\n",
       "==========================================================================================\n",
       "                             coef    std err          z      P>|z|      [0.025      0.975]\n",
       "------------------------------------------------------------------------------------------\n",
       "const                     -8.0480      0.514    -15.648      0.000      -9.056      -7.040\n",
       "International plan         2.0419      0.145     14.066      0.000       1.757       2.326\n",
       "Voice mail plan           -0.9381      0.145     -6.478      0.000      -1.222      -0.654\n",
       "Total day minutes          0.0130      0.001     12.018      0.000       0.011       0.015\n",
       "Total eve minutes          0.0072      0.001      6.283      0.000       0.005       0.009\n",
       "Total night minutes        0.0037      0.001      3.308      0.001       0.001       0.006\n",
       "Total intl minutes         0.0874      0.020      4.296      0.000       0.048       0.127\n",
       "Total intl calls          -0.0914      0.025     -3.664      0.000      -0.140      -0.043\n",
       "Customer service calls     0.5126      0.039     13.109      0.000       0.436       0.589\n",
       "==========================================================================================\n",
       "\"\"\""
      ]
     },
     "execution_count": 10,
     "metadata": {},
     "output_type": "execute_result"
    }
   ],
   "source": [
    "logit_mod = sm.Logit(endog=y, exog=sm.add_constant(new_df)).fit()\n",
    "logit_mod.summary()"
   ]
  },
  {
   "cell_type": "code",
   "execution_count": 11,
   "metadata": {},
   "outputs": [
    {
     "name": "stdout",
     "output_type": "stream",
     "text": [
      "Optimization terminated successfully.\n",
      "         Current function value: 0.324836\n",
      "         Iterations 7\n"
     ]
    },
    {
     "data": {
      "text/html": [
       "<table class=\"simpletable\">\n",
       "<caption>Probit Regression Results</caption>\n",
       "<tr>\n",
       "  <th>Dep. Variable:</th>           <td>y</td>        <th>  No. Observations:  </th>   <td>  3333</td>  \n",
       "</tr>\n",
       "<tr>\n",
       "  <th>Model:</th>                <td>Probit</td>      <th>  Df Residuals:      </th>   <td>  3324</td>  \n",
       "</tr>\n",
       "<tr>\n",
       "  <th>Method:</th>                 <td>MLE</td>       <th>  Df Model:          </th>   <td>     8</td>  \n",
       "</tr>\n",
       "<tr>\n",
       "  <th>Date:</th>            <td>Mon, 27 Mar 2023</td> <th>  Pseudo R-squ.:     </th>   <td>0.2150</td>  \n",
       "</tr>\n",
       "<tr>\n",
       "  <th>Time:</th>                <td>21:41:42</td>     <th>  Log-Likelihood:    </th>  <td> -1082.7</td> \n",
       "</tr>\n",
       "<tr>\n",
       "  <th>converged:</th>             <td>True</td>       <th>  LL-Null:           </th>  <td> -1379.1</td> \n",
       "</tr>\n",
       "<tr>\n",
       "  <th>Covariance Type:</th>     <td>nonrobust</td>    <th>  LLR p-value:       </th> <td>7.711e-123</td>\n",
       "</tr>\n",
       "</table>\n",
       "<table class=\"simpletable\">\n",
       "<tr>\n",
       "             <td></td>               <th>coef</th>     <th>std err</th>      <th>z</th>      <th>P>|z|</th>  <th>[0.025</th>    <th>0.975]</th>  \n",
       "</tr>\n",
       "<tr>\n",
       "  <th>const</th>                  <td>   -4.3282</td> <td>    0.265</td> <td>  -16.327</td> <td> 0.000</td> <td>   -4.848</td> <td>   -3.809</td>\n",
       "</tr>\n",
       "<tr>\n",
       "  <th>International plan</th>     <td>    1.1736</td> <td>    0.082</td> <td>   14.275</td> <td> 0.000</td> <td>    1.012</td> <td>    1.335</td>\n",
       "</tr>\n",
       "<tr>\n",
       "  <th>Voice mail plan</th>        <td>   -0.4726</td> <td>    0.075</td> <td>   -6.313</td> <td> 0.000</td> <td>   -0.619</td> <td>   -0.326</td>\n",
       "</tr>\n",
       "<tr>\n",
       "  <th>Total day minutes</th>      <td>    0.0068</td> <td>    0.001</td> <td>   12.147</td> <td> 0.000</td> <td>    0.006</td> <td>    0.008</td>\n",
       "</tr>\n",
       "<tr>\n",
       "  <th>Total eve minutes</th>      <td>    0.0036</td> <td>    0.001</td> <td>    5.955</td> <td> 0.000</td> <td>    0.002</td> <td>    0.005</td>\n",
       "</tr>\n",
       "<tr>\n",
       "  <th>Total night minutes</th>    <td>    0.0018</td> <td>    0.001</td> <td>    3.026</td> <td> 0.002</td> <td>    0.001</td> <td>    0.003</td>\n",
       "</tr>\n",
       "<tr>\n",
       "  <th>Total intl minutes</th>     <td>    0.0440</td> <td>    0.011</td> <td>    3.970</td> <td> 0.000</td> <td>    0.022</td> <td>    0.066</td>\n",
       "</tr>\n",
       "<tr>\n",
       "  <th>Total intl calls</th>       <td>   -0.0432</td> <td>    0.013</td> <td>   -3.359</td> <td> 0.001</td> <td>   -0.068</td> <td>   -0.018</td>\n",
       "</tr>\n",
       "<tr>\n",
       "  <th>Customer service calls</th> <td>    0.2910</td> <td>    0.021</td> <td>   13.837</td> <td> 0.000</td> <td>    0.250</td> <td>    0.332</td>\n",
       "</tr>\n",
       "</table>"
      ],
      "text/plain": [
       "<class 'statsmodels.iolib.summary.Summary'>\n",
       "\"\"\"\n",
       "                          Probit Regression Results                           \n",
       "==============================================================================\n",
       "Dep. Variable:                      y   No. Observations:                 3333\n",
       "Model:                         Probit   Df Residuals:                     3324\n",
       "Method:                           MLE   Df Model:                            8\n",
       "Date:                Mon, 27 Mar 2023   Pseudo R-squ.:                  0.2150\n",
       "Time:                        21:41:42   Log-Likelihood:                -1082.7\n",
       "converged:                       True   LL-Null:                       -1379.1\n",
       "Covariance Type:            nonrobust   LLR p-value:                7.711e-123\n",
       "==========================================================================================\n",
       "                             coef    std err          z      P>|z|      [0.025      0.975]\n",
       "------------------------------------------------------------------------------------------\n",
       "const                     -4.3282      0.265    -16.327      0.000      -4.848      -3.809\n",
       "International plan         1.1736      0.082     14.275      0.000       1.012       1.335\n",
       "Voice mail plan           -0.4726      0.075     -6.313      0.000      -0.619      -0.326\n",
       "Total day minutes          0.0068      0.001     12.147      0.000       0.006       0.008\n",
       "Total eve minutes          0.0036      0.001      5.955      0.000       0.002       0.005\n",
       "Total night minutes        0.0018      0.001      3.026      0.002       0.001       0.003\n",
       "Total intl minutes         0.0440      0.011      3.970      0.000       0.022       0.066\n",
       "Total intl calls          -0.0432      0.013     -3.359      0.001      -0.068      -0.018\n",
       "Customer service calls     0.2910      0.021     13.837      0.000       0.250       0.332\n",
       "==========================================================================================\n",
       "\"\"\""
      ]
     },
     "execution_count": 11,
     "metadata": {},
     "output_type": "execute_result"
    }
   ],
   "source": [
    "probit_mod = sm.Probit(endog=y, exog=sm.add_constant(new_df)).fit()\n",
    "probit_mod.summary()"
   ]
  },
  {
   "cell_type": "markdown",
   "metadata": {},
   "source": [
    "Посмотрим на метрики сначала logit модели, а затем probit."
   ]
  },
  {
   "cell_type": "code",
   "execution_count": 12,
   "metadata": {},
   "outputs": [],
   "source": [
    "y_pred_logit = np.where(logit_mod.predict(sm.add_constant(new_df)) > 0.5, 1, 0)\n",
    "y_pred_probit = np.where(probit_mod.predict(sm.add_constant(new_df)) > 0.5, 1, 0)"
   ]
  },
  {
   "cell_type": "code",
   "execution_count": 13,
   "metadata": {},
   "outputs": [
    {
     "data": {
      "text/plain": [
       "array([[2773,   77],\n",
       "       [ 379,  104]])"
      ]
     },
     "execution_count": 13,
     "metadata": {},
     "output_type": "execute_result"
    }
   ],
   "source": [
    "confusion_matrix(y_true = y, y_pred=y_pred_logit)"
   ]
  },
  {
   "cell_type": "code",
   "execution_count": 14,
   "metadata": {},
   "outputs": [
    {
     "name": "stdout",
     "output_type": "stream",
     "text": [
      "Precision: 0.575, recall: 0.215, f1: 0.313, ROC-AUC: 0.594\n"
     ]
    }
   ],
   "source": [
    "TP_logit = np.sum((y_pred_logit == 1) & (y == 1)) \n",
    "FP_logit = np.sum((y_pred_logit == 1) & (y == 0))\n",
    "FN_logit = np.sum((y_pred_logit == 0) & (y == 1))\n",
    "TN_logit = np.sum((y_pred_logit == 0) & (y == 0))\n",
    "\n",
    "precision_logit = round(TP_logit/(TP_logit + FP_logit), 3)\n",
    "recall_logit = round(TP_logit/(TP_logit + FN_logit), 3)\n",
    "f1_logit = round(f1_score(y_true = y, y_pred= y_pred_logit), 3)\n",
    "fpr, tpr, threshold = roc_curve(y, y_pred_logit)\n",
    "roc_auc_logit = round(auc(fpr, tpr), 3)\n",
    "print(f'Precision: {precision_logit}, recall: {recall_logit}, f1: {f1_logit}, ROC-AUC: {roc_auc_logit}')"
   ]
  },
  {
   "cell_type": "code",
   "execution_count": 15,
   "metadata": {},
   "outputs": [
    {
     "data": {
      "text/plain": [
       "array([[2780,   70],\n",
       "       [ 388,   95]])"
      ]
     },
     "execution_count": 15,
     "metadata": {},
     "output_type": "execute_result"
    }
   ],
   "source": [
    "confusion_matrix(y_true = y, y_pred=y_pred_probit)"
   ]
  },
  {
   "cell_type": "code",
   "execution_count": 16,
   "metadata": {},
   "outputs": [
    {
     "name": "stdout",
     "output_type": "stream",
     "text": [
      "Precision: 0.576, recall: 0.197, f1: 0.293, ROC-AUC: 0.586\n"
     ]
    }
   ],
   "source": [
    "TP_probit = np.sum((y_pred_probit == 1) & (y == 1)) \n",
    "FP_probit = np.sum((y_pred_probit == 1) & (y == 0))\n",
    "FN_probit = np.sum((y_pred_probit == 0) & (y == 1))\n",
    "TN_probit = np.sum((y_pred_probit == 0) & (y == 0))\n",
    "\n",
    "precision_probit = round(TP_probit/(TP_probit + FP_probit), 3)\n",
    "recall_probit = round(TP_probit/(TP_probit + FN_probit), 3)\n",
    "f1_probit = round(f1_score(y_true = y, y_pred= y_pred_probit), 3)\n",
    "fpr, tpr, threshold = roc_curve(y, y_pred_probit)\n",
    "roc_auc_probit = round(auc(fpr, tpr), 3)\n",
    "print(f'Precision: {precision_probit}, recall: {recall_probit}, f1: {f1_probit}, ROC-AUC: {roc_auc_probit}')"
   ]
  },
  {
   "cell_type": "markdown",
   "metadata": {},
   "source": [
    "В данном случае я предпочитаю использовать logit модель, так как у неё лучше f1-score, а в задаче предсказания churn'а нам важны одновременно и precision, и recall.\n",
    "Возможно даже recall более предпочтителен, так как нам важно детектировать как можно больше кандидатов на отток.\n",
    "Так же в задаче нам важна метрика roc_auc, а она у первой модели тоже больше.\n",
    "\n",
    "Посмотрим, какие переменные надо изменить у среднего клиента, чтобы вероятность ухода снизилась."
   ]
  },
  {
   "cell_type": "code",
   "execution_count": 17,
   "metadata": {},
   "outputs": [
    {
     "data": {
      "text/html": [
       "<table class=\"simpletable\">\n",
       "<caption>Logit Marginal Effects</caption>\n",
       "<tr>\n",
       "  <th>Dep. Variable:</th>   <td>y</td> \n",
       "</tr>\n",
       "<tr>\n",
       "  <th>Method:</th>        <td>dydx</td>\n",
       "</tr>\n",
       "<tr>\n",
       "  <th>At:</th>            <td>mean</td>\n",
       "</tr>\n",
       "</table>\n",
       "<table class=\"simpletable\">\n",
       "<tr>\n",
       "             <th></th>               <th>dy/dx</th>    <th>std err</th>      <th>z</th>      <th>P>|z|</th>  <th>[0.025</th>    <th>0.975]</th>  \n",
       "</tr>\n",
       "<tr>\n",
       "  <th>International plan</th>     <td>    0.1679</td> <td>    0.013</td> <td>   13.111</td> <td> 0.000</td> <td>    0.143</td> <td>    0.193</td>\n",
       "</tr>\n",
       "<tr>\n",
       "  <th>Voice mail plan</th>        <td>   -0.0772</td> <td>    0.012</td> <td>   -6.660</td> <td> 0.000</td> <td>   -0.100</td> <td>   -0.054</td>\n",
       "</tr>\n",
       "<tr>\n",
       "  <th>Total day minutes</th>      <td>    0.0011</td> <td> 8.56e-05</td> <td>   12.489</td> <td> 0.000</td> <td>    0.001</td> <td>    0.001</td>\n",
       "</tr>\n",
       "<tr>\n",
       "  <th>Total eve minutes</th>      <td>    0.0006</td> <td> 9.23e-05</td> <td>    6.385</td> <td> 0.000</td> <td>    0.000</td> <td>    0.001</td>\n",
       "</tr>\n",
       "<tr>\n",
       "  <th>Total night minutes</th>    <td>    0.0003</td> <td> 9.06e-05</td> <td>    3.327</td> <td> 0.001</td> <td>    0.000</td> <td>    0.000</td>\n",
       "</tr>\n",
       "<tr>\n",
       "  <th>Total intl minutes</th>     <td>    0.0072</td> <td>    0.002</td> <td>    4.321</td> <td> 0.000</td> <td>    0.004</td> <td>    0.010</td>\n",
       "</tr>\n",
       "<tr>\n",
       "  <th>Total intl calls</th>       <td>   -0.0075</td> <td>    0.002</td> <td>   -3.691</td> <td> 0.000</td> <td>   -0.012</td> <td>   -0.004</td>\n",
       "</tr>\n",
       "<tr>\n",
       "  <th>Customer service calls</th> <td>    0.0422</td> <td>    0.003</td> <td>   13.160</td> <td> 0.000</td> <td>    0.036</td> <td>    0.048</td>\n",
       "</tr>\n",
       "</table>"
      ],
      "text/plain": [
       "<class 'statsmodels.iolib.summary.Summary'>\n",
       "\"\"\"\n",
       "        Logit Marginal Effects       \n",
       "=====================================\n",
       "Dep. Variable:                      y\n",
       "Method:                          dydx\n",
       "At:                              mean\n",
       "==========================================================================================\n",
       "                            dy/dx    std err          z      P>|z|      [0.025      0.975]\n",
       "------------------------------------------------------------------------------------------\n",
       "International plan         0.1679      0.013     13.111      0.000       0.143       0.193\n",
       "Voice mail plan           -0.0772      0.012     -6.660      0.000      -0.100      -0.054\n",
       "Total day minutes          0.0011   8.56e-05     12.489      0.000       0.001       0.001\n",
       "Total eve minutes          0.0006   9.23e-05      6.385      0.000       0.000       0.001\n",
       "Total night minutes        0.0003   9.06e-05      3.327      0.001       0.000       0.000\n",
       "Total intl minutes         0.0072      0.002      4.321      0.000       0.004       0.010\n",
       "Total intl calls          -0.0075      0.002     -3.691      0.000      -0.012      -0.004\n",
       "Customer service calls     0.0422      0.003     13.160      0.000       0.036       0.048\n",
       "==========================================================================================\n",
       "\"\"\""
      ]
     },
     "execution_count": 17,
     "metadata": {},
     "output_type": "execute_result"
    }
   ],
   "source": [
    "logit_mod.get_margeff(at = 'mean').summary()"
   ]
  },
  {
   "cell_type": "markdown",
   "metadata": {},
   "source": [
    "Видим, что international plan у клиента имеет положительный эффект на Churn, так же как и количество звонок в Customer service. \n",
    "Voice mail plan же имеет отрицательный эффект на целевую переменную."
   ]
  },
  {
   "cell_type": "code",
   "execution_count": 18,
   "metadata": {},
   "outputs": [],
   "source": [
    "from sklearn.feature_selection import RFECV\n",
    "from sklearn.model_selection import StratifiedKFold, GridSearchCV, train_test_split\n",
    "from sklearn.linear_model import LogisticRegression"
   ]
  },
  {
   "cell_type": "markdown",
   "metadata": {},
   "source": [
    "Давайте добавим dummy-признаки, отвечающие за штат.\n",
    "Если что, отсеем какие-то с помощью RFECV."
   ]
  },
  {
   "cell_type": "code",
   "execution_count": 19,
   "metadata": {},
   "outputs": [],
   "source": [
    "new_df['State'] = df['State']\n",
    "new_df = pd.get_dummies(new_df, columns=['State'], drop_first=True)"
   ]
  },
  {
   "cell_type": "markdown",
   "metadata": {},
   "source": [
    "Разобьём датасет в отношении 4:1 на обучение/тест."
   ]
  },
  {
   "cell_type": "code",
   "execution_count": 20,
   "metadata": {},
   "outputs": [],
   "source": [
    "X_train, X_test, y_train, y_test = train_test_split(new_df.values, y, test_size=0.2, random_state=7)"
   ]
  },
  {
   "cell_type": "markdown",
   "metadata": {},
   "source": [
    "Посмотрим, нужно ли отбрасывать какой-то из признаков, опираясь на метрику ROC-AUC.\n",
    "Solver в логистической модели взяла liblinear по рекомендации из sklearn'а (хорошо работает на небольший датасетах, поддерживает L1/L2 регуляризацию)."
   ]
  },
  {
   "cell_type": "code",
   "execution_count": 21,
   "metadata": {},
   "outputs": [
    {
     "name": "stdout",
     "output_type": "stream",
     "text": [
      "58 [ True  True  True  True  True  True  True  True  True  True  True  True\n",
      "  True  True  True  True  True  True  True  True  True  True  True  True\n",
      "  True  True  True  True  True  True  True  True  True  True  True  True\n",
      "  True  True  True  True  True  True  True  True  True  True  True  True\n",
      "  True  True  True  True  True  True  True  True  True  True]\n"
     ]
    }
   ],
   "source": [
    "clf = LogisticRegression(solver='liblinear')\n",
    "cv = StratifiedKFold(5)\n",
    "\n",
    "rfecv = RFECV(\n",
    "    estimator=clf,\n",
    "    step=1,\n",
    "    cv=cv,\n",
    "    scoring='roc_auc',\n",
    "    min_features_to_select=1,\n",
    ")\n",
    "selector = rfecv.fit(X_train, y_train)\n",
    "print(selector.n_features_, selector.get_support())"
   ]
  },
  {
   "cell_type": "markdown",
   "metadata": {},
   "source": [
    "Кажется признаки отбрасывать не нужно.\n",
    "\n",
    "Теперь подберём гиперпараметры регуляризации для модели."
   ]
  },
  {
   "cell_type": "code",
   "execution_count": 22,
   "metadata": {},
   "outputs": [
    {
     "name": "stdout",
     "output_type": "stream",
     "text": [
      "Fitting 5 folds for each of 10 candidates, totalling 50 fits\n"
     ]
    },
    {
     "data": {
      "text/plain": [
       "{'C': 0.5, 'penalty': 'l1'}"
      ]
     },
     "execution_count": 22,
     "metadata": {},
     "output_type": "execute_result"
    }
   ],
   "source": [
    "model = LogisticRegression(solver='liblinear')\n",
    "parameters = {'penalty': ['l1', 'l2'], 'C': [0.01, 0.05, 0.1, 0.5, 1.0]}\n",
    "cv = StratifiedKFold(5)\n",
    "clf = GridSearchCV(estimator=model, param_grid=parameters, \n",
    "                   scoring='roc_auc', cv=cv, verbose=1)\n",
    "clf.fit(X_train, y_train)\n",
    "clf.best_params_"
   ]
  },
  {
   "cell_type": "markdown",
   "metadata": {},
   "source": [
    "Нашли оптимальную регуляризацию, теперь давайте отобразим изменение roc_auc_score в зависимости от изменения гиперпараметров."
   ]
  },
  {
   "cell_type": "code",
   "execution_count": 23,
   "metadata": {},
   "outputs": [],
   "source": [
    "results = pd.DataFrame(clf.cv_results_['mean_test_score'], columns=['mean_test_score'])\n",
    "params = clf.cv_results_['params']\n",
    "results['C'] = [d['C'] for d in params]\n",
    "results['penalty'] = [d['penalty'] for d in params]\n",
    "argmax_l1 = np.argmax(results[results['penalty'] == 'l1']['mean_test_score'])\n",
    "argmax_l2 = np.argmax(results[results['penalty'] == 'l2']['mean_test_score'])"
   ]
  },
  {
   "cell_type": "code",
   "execution_count": 24,
   "metadata": {},
   "outputs": [
    {
     "data": {
      "image/png": "[encoded data removed]",
      "text/plain": [
       "<Figure size 432x288 with 1 Axes>"
      ]
     },
     "metadata": {
      "needs_background": "light"
     },
     "output_type": "display_data"
    }
   ],
   "source": [
    "plt.plot(results[results['penalty'] == 'l1']['C'], \n",
    "         results[results['penalty'] == 'l1']['mean_test_score'], \n",
    "         color='red', label='l1')\n",
    "plt.plot(results[results['penalty'] == 'l2']['C'], \n",
    "         results[results['penalty'] == 'l2']['mean_test_score'], \n",
    "         color='blue', label='l2')\n",
    "plt.scatter(results[results['penalty'] == 'l1'].iloc[argmax_l1, 1], \n",
    "            results[results['penalty'] == 'l1'].iloc[argmax_l1, 0], \n",
    "            color='red')\n",
    "plt.scatter(results[results['penalty'] == 'l2'].iloc[argmax_l2, 1], \n",
    "            results[results['penalty'] == 'l2'].iloc[argmax_l2, 0], \n",
    "            color='blue')\n",
    "plt.title('Change in ROC-AUC depending on C')\n",
    "plt.legend()\n",
    "plt.show()"
   ]
  },
  {
   "cell_type": "markdown",
   "metadata": {},
   "source": [
    "# №3 (60 баллов)"
   ]
  },
  {
   "cell_type": "markdown",
   "metadata": {},
   "source": [
    "- Ладно, пришла пора для чего более сложного\n",
    "- В этой задаче вы сами все решаете. Более того, у вас будут даже чужие ноутбуки\n",
    "- Если вы проведете такой же анализ, что и выше, то балл за это задание будет равен 10/40\n",
    "- Чтобы получить максимальный балл за это задание, то вам нужно будет провести полноценное исследование"
   ]
  },
  {
   "cell_type": "markdown",
   "metadata": {},
   "source": [
    "- Итак, представьте себе следующую ситуацию\n",
    "- Вы участвуете в создании продукта/модели по предсказанию инсульта \n",
    "- Вы - главный аналитик, который отвечает за создание модели и презентацию ее результатов\n",
    "- Проблема в том, что вы единственный аналитик в команде. Все остальные члены команды **не имеют математического бэкграунда, они не знают никаких моделей, они никогда не занимались программированием**. Они все медики.\n",
    "- Вы знаете, что для тестривания модели на первом этапе подойдет [этот](https://www.kaggle.com/fedesoriano/stroke-prediction-dataset) замечательный датасет. Там есть примеры различного анализа и моделей\n",
    "- Но вы не можете просто взять примеры оттуда:\n",
    "    - Во-первых, ваша модель должна быть логистической или пробит \n",
    "    - Во-вторых, посмотрите на то, как меняется вероятность инсульта в зависимости от характеристик пациента\n",
    "    - В-третьих, подумайте над тем, как можно поменять/улучшить эту модель, чтобы обеспечить **наилучшее предсказание**. Подумайте, какую метрику вы будете использовать для этой задачи. Обоснуйте выбор метрики.\n",
    "- Еще важный момент. Вы отправите, получившееся исследование команде, поэтому оно не должно быть большим (время на прочтение и понимание того, что происходит, не должно занимать более 10-15 минут). Помните, что у команды есть и другие задачи, поэтому позаботьтесь, чтобы исследование было:\n",
    "    - Структурированным. Можете использовать [классический](https://blogs.lse.ac.uk/impactofsocialsciences/2018/05/21/writing-a-page-turner-how-to-tell-a-story-in-your-scientific-paper/) подход к научному исследованию и добавить то, как делают [консультанты](https://strategyu.co/mckinsey-structured-problem-solving-secrets/)\n",
    "    - Отвечало на поставленную задачу\n",
    "    - Было самодостаточным (в одном jupyter файле, проще говоря)\n",
    "    - Воспроизводимым (увижу, что явно не прописываете `seed`, если/где надо, поставлю 0 за это задание)\n",
    "    - Было не стыдно показать другим людям (если графики будут без подписей осей и названия, как минимум, поставлю 0)"
   ]
  },
  {
   "cell_type": "code",
   "execution_count": 25,
   "metadata": {},
   "outputs": [],
   "source": [
    "import numpy as np\n",
    "import pandas as pd\n",
    "import matplotlib.pyplot as plt\n",
    "import seaborn as sns\n",
    "import statsmodels.api as sm\n",
    "\n",
    "np.random.seed(7)"
   ]
  },
  {
   "cell_type": "code",
   "execution_count": 26,
   "metadata": {},
   "outputs": [
    {
     "data": {
      "text/html": [
       "<div>\n",
       "<style scoped>\n",
       "    .dataframe tbody tr th:only-of-type {\n",
       "        vertical-align: middle;\n",
       "    }\n",
       "\n",
       "    .dataframe tbody tr th {\n",
       "        vertical-align: top;\n",
       "    }\n",
       "\n",
       "    .dataframe thead th {\n",
       "        text-align: right;\n",
       "    }\n",
       "</style>\n",
       "<table border=\"1\" class=\"dataframe\">\n",
       "  <thead>\n",
       "    <tr style=\"text-align: right;\">\n",
       "      <th></th>\n",
       "      <th>id</th>\n",
       "      <th>gender</th>\n",
       "      <th>age</th>\n",
       "      <th>hypertension</th>\n",
       "      <th>heart_disease</th>\n",
       "      <th>ever_married</th>\n",
       "      <th>work_type</th>\n",
       "      <th>Residence_type</th>\n",
       "      <th>avg_glucose_level</th>\n",
       "      <th>bmi</th>\n",
       "      <th>smoking_status</th>\n",
       "      <th>stroke</th>\n",
       "    </tr>\n",
       "  </thead>\n",
       "  <tbody>\n",
       "    <tr>\n",
       "      <th>0</th>\n",
       "      <td>9046</td>\n",
       "      <td>Male</td>\n",
       "      <td>67.0</td>\n",
       "      <td>0</td>\n",
       "      <td>1</td>\n",
       "      <td>Yes</td>\n",
       "      <td>Private</td>\n",
       "      <td>Urban</td>\n",
       "      <td>228.69</td>\n",
       "      <td>36.6</td>\n",
       "      <td>formerly smoked</td>\n",
       "      <td>1</td>\n",
       "    </tr>\n",
       "    <tr>\n",
       "      <th>1</th>\n",
       "      <td>51676</td>\n",
       "      <td>Female</td>\n",
       "      <td>61.0</td>\n",
       "      <td>0</td>\n",
       "      <td>0</td>\n",
       "      <td>Yes</td>\n",
       "      <td>Self-employed</td>\n",
       "      <td>Rural</td>\n",
       "      <td>202.21</td>\n",
       "      <td>NaN</td>\n",
       "      <td>never smoked</td>\n",
       "      <td>1</td>\n",
       "    </tr>\n",
       "    <tr>\n",
       "      <th>2</th>\n",
       "      <td>31112</td>\n",
       "      <td>Male</td>\n",
       "      <td>80.0</td>\n",
       "      <td>0</td>\n",
       "      <td>1</td>\n",
       "      <td>Yes</td>\n",
       "      <td>Private</td>\n",
       "      <td>Rural</td>\n",
       "      <td>105.92</td>\n",
       "      <td>32.5</td>\n",
       "      <td>never smoked</td>\n",
       "      <td>1</td>\n",
       "    </tr>\n",
       "    <tr>\n",
       "      <th>3</th>\n",
       "      <td>60182</td>\n",
       "      <td>Female</td>\n",
       "      <td>49.0</td>\n",
       "      <td>0</td>\n",
       "      <td>0</td>\n",
       "      <td>Yes</td>\n",
       "      <td>Private</td>\n",
       "      <td>Urban</td>\n",
       "      <td>171.23</td>\n",
       "      <td>34.4</td>\n",
       "      <td>smokes</td>\n",
       "      <td>1</td>\n",
       "    </tr>\n",
       "    <tr>\n",
       "      <th>4</th>\n",
       "      <td>1665</td>\n",
       "      <td>Female</td>\n",
       "      <td>79.0</td>\n",
       "      <td>1</td>\n",
       "      <td>0</td>\n",
       "      <td>Yes</td>\n",
       "      <td>Self-employed</td>\n",
       "      <td>Rural</td>\n",
       "      <td>174.12</td>\n",
       "      <td>24.0</td>\n",
       "      <td>never smoked</td>\n",
       "      <td>1</td>\n",
       "    </tr>\n",
       "  </tbody>\n",
       "</table>\n",
       "</div>"
      ],
      "text/plain": [
       "      id  gender   age  hypertension  heart_disease ever_married  \\\n",
       "0   9046    Male  67.0             0              1          Yes   \n",
       "1  51676  Female  61.0             0              0          Yes   \n",
       "2  31112    Male  80.0             0              1          Yes   \n",
       "3  60182  Female  49.0             0              0          Yes   \n",
       "4   1665  Female  79.0             1              0          Yes   \n",
       "\n",
       "       work_type Residence_type  avg_glucose_level   bmi   smoking_status  \\\n",
       "0        Private          Urban             228.69  36.6  formerly smoked   \n",
       "1  Self-employed          Rural             202.21   NaN     never smoked   \n",
       "2        Private          Rural             105.92  32.5     never smoked   \n",
       "3        Private          Urban             171.23  34.4           smokes   \n",
       "4  Self-employed          Rural             174.12  24.0     never smoked   \n",
       "\n",
       "   stroke  \n",
       "0       1  \n",
       "1       1  \n",
       "2       1  \n",
       "3       1  \n",
       "4       1  "
      ]
     },
     "execution_count": 26,
     "metadata": {},
     "output_type": "execute_result"
    }
   ],
   "source": [
    "df = pd.read_csv('healthcare-dataset-stroke-data.csv')\n",
    "df.head()"
   ]
  },
  {
   "cell_type": "markdown",
   "metadata": {},
   "source": [
    "Давайте преобразуем немного данные: например, бинарные признаки переведём в формат 1/0 (это колонки **ever_married**, **gender** и **Residence_type**), а так же сделаем one-hot encoding для остальных категориальных признаков.\n",
    "Так же выбросим наблюдения, где мы не знаем пола человека (такое в нашем датасете единственно), так как пол может быть важным признаком и пропуск на этом месте нельзя ничем заменить.\n",
    "В то же время у нас примерно 200 значений с пропущенным **bmi**, давайте в них поставим среднее значение по столбцу.\n",
    "Ещё отнормируем количественные признаки, так как из-за масштаба они могут оказывать сильное влияние на целевую переменную."
   ]
  },
  {
   "cell_type": "code",
   "execution_count": 27,
   "metadata": {},
   "outputs": [
    {
     "data": {
      "text/plain": [
       "0    4860\n",
       "1     249\n",
       "Name: stroke, dtype: int64"
      ]
     },
     "execution_count": 27,
     "metadata": {},
     "output_type": "execute_result"
    }
   ],
   "source": [
    "df['ever_married'] = df['ever_married'].map({'Yes': 1, 'No': 0})\n",
    "df = df[df['gender'] != 'Other'] # Выкидываем наблюдение без пола\n",
    "df['gender'] = df['gender'].map({'Male': 1, 'Female': 0})\n",
    "df['Residence_type'] = df['Residence_type'].map({'Urban': 1, 'Rural': 0})\n",
    "df['bmi'] = df['bmi'].fillna(df['bmi'].mean()) # Заполняем пробелы в bmi средним\n",
    "# Нормируем количественные признаки\n",
    "df.iloc[:, [2, 8, 9]] = df.iloc[:, [2, 8, 9]].apply(lambda x: (x - x.mean())/x.std()) \n",
    "# Создаём dummy переменные\n",
    "new_df = pd.get_dummies(df, columns=['work_type', 'smoking_status'], drop_first=True)\n",
    "# Смотрим соотношение классов\n",
    "new_df['stroke'].value_counts()"
   ]
  },
  {
   "cell_type": "code",
   "execution_count": 28,
   "metadata": {},
   "outputs": [],
   "source": [
    "X = new_df.drop(['id', 'stroke'], axis=1)\n",
    "Y = new_df['stroke']"
   ]
  },
  {
   "cell_type": "code",
   "execution_count": 29,
   "metadata": {},
   "outputs": [
    {
     "data": {
      "text/html": [
       "<div>\n",
       "<style scoped>\n",
       "    .dataframe tbody tr th:only-of-type {\n",
       "        vertical-align: middle;\n",
       "    }\n",
       "\n",
       "    .dataframe tbody tr th {\n",
       "        vertical-align: top;\n",
       "    }\n",
       "\n",
       "    .dataframe thead th {\n",
       "        text-align: right;\n",
       "    }\n",
       "</style>\n",
       "<table border=\"1\" class=\"dataframe\">\n",
       "  <thead>\n",
       "    <tr style=\"text-align: right;\">\n",
       "      <th></th>\n",
       "      <th>gender</th>\n",
       "      <th>age</th>\n",
       "      <th>hypertension</th>\n",
       "      <th>heart_disease</th>\n",
       "      <th>ever_married</th>\n",
       "      <th>Residence_type</th>\n",
       "      <th>avg_glucose_level</th>\n",
       "      <th>bmi</th>\n",
       "      <th>work_type_Never_worked</th>\n",
       "      <th>work_type_Private</th>\n",
       "      <th>work_type_Self-employed</th>\n",
       "      <th>work_type_children</th>\n",
       "      <th>smoking_status_formerly smoked</th>\n",
       "      <th>smoking_status_never smoked</th>\n",
       "      <th>smoking_status_smokes</th>\n",
       "    </tr>\n",
       "  </thead>\n",
       "  <tbody>\n",
       "    <tr>\n",
       "      <th>0</th>\n",
       "      <td>1</td>\n",
       "      <td>1.051139</td>\n",
       "      <td>0</td>\n",
       "      <td>1</td>\n",
       "      <td>1</td>\n",
       "      <td>1</td>\n",
       "      <td>2.706185</td>\n",
       "      <td>1.000936e+00</td>\n",
       "      <td>0</td>\n",
       "      <td>1</td>\n",
       "      <td>0</td>\n",
       "      <td>0</td>\n",
       "      <td>1</td>\n",
       "      <td>0</td>\n",
       "      <td>0</td>\n",
       "    </tr>\n",
       "    <tr>\n",
       "      <th>1</th>\n",
       "      <td>0</td>\n",
       "      <td>0.785812</td>\n",
       "      <td>0</td>\n",
       "      <td>0</td>\n",
       "      <td>1</td>\n",
       "      <td>0</td>\n",
       "      <td>2.121444</td>\n",
       "      <td>1.476791e-14</td>\n",
       "      <td>0</td>\n",
       "      <td>0</td>\n",
       "      <td>1</td>\n",
       "      <td>0</td>\n",
       "      <td>0</td>\n",
       "      <td>1</td>\n",
       "      <td>0</td>\n",
       "    </tr>\n",
       "    <tr>\n",
       "      <th>2</th>\n",
       "      <td>1</td>\n",
       "      <td>1.626015</td>\n",
       "      <td>0</td>\n",
       "      <td>1</td>\n",
       "      <td>1</td>\n",
       "      <td>0</td>\n",
       "      <td>-0.004867</td>\n",
       "      <td>4.683463e-01</td>\n",
       "      <td>0</td>\n",
       "      <td>1</td>\n",
       "      <td>0</td>\n",
       "      <td>0</td>\n",
       "      <td>0</td>\n",
       "      <td>1</td>\n",
       "      <td>0</td>\n",
       "    </tr>\n",
       "    <tr>\n",
       "      <th>3</th>\n",
       "      <td>0</td>\n",
       "      <td>0.255157</td>\n",
       "      <td>0</td>\n",
       "      <td>0</td>\n",
       "      <td>1</td>\n",
       "      <td>1</td>\n",
       "      <td>1.437332</td>\n",
       "      <td>7.151561e-01</td>\n",
       "      <td>0</td>\n",
       "      <td>1</td>\n",
       "      <td>0</td>\n",
       "      <td>0</td>\n",
       "      <td>0</td>\n",
       "      <td>0</td>\n",
       "      <td>1</td>\n",
       "    </tr>\n",
       "    <tr>\n",
       "      <th>4</th>\n",
       "      <td>0</td>\n",
       "      <td>1.581794</td>\n",
       "      <td>1</td>\n",
       "      <td>0</td>\n",
       "      <td>1</td>\n",
       "      <td>0</td>\n",
       "      <td>1.501150</td>\n",
       "      <td>-6.358029e-01</td>\n",
       "      <td>0</td>\n",
       "      <td>0</td>\n",
       "      <td>1</td>\n",
       "      <td>0</td>\n",
       "      <td>0</td>\n",
       "      <td>1</td>\n",
       "      <td>0</td>\n",
       "    </tr>\n",
       "  </tbody>\n",
       "</table>\n",
       "</div>"
      ],
      "text/plain": [
       "   gender       age  hypertension  heart_disease  ever_married  \\\n",
       "0       1  1.051139             0              1             1   \n",
       "1       0  0.785812             0              0             1   \n",
       "2       1  1.626015             0              1             1   \n",
       "3       0  0.255157             0              0             1   \n",
       "4       0  1.581794             1              0             1   \n",
       "\n",
       "   Residence_type  avg_glucose_level           bmi  work_type_Never_worked  \\\n",
       "0               1           2.706185  1.000936e+00                       0   \n",
       "1               0           2.121444  1.476791e-14                       0   \n",
       "2               0          -0.004867  4.683463e-01                       0   \n",
       "3               1           1.437332  7.151561e-01                       0   \n",
       "4               0           1.501150 -6.358029e-01                       0   \n",
       "\n",
       "   work_type_Private  work_type_Self-employed  work_type_children  \\\n",
       "0                  1                        0                   0   \n",
       "1                  0                        1                   0   \n",
       "2                  1                        0                   0   \n",
       "3                  1                        0                   0   \n",
       "4                  0                        1                   0   \n",
       "\n",
       "   smoking_status_formerly smoked  smoking_status_never smoked  \\\n",
       "0                               1                            0   \n",
       "1                               0                            1   \n",
       "2                               0                            1   \n",
       "3                               0                            0   \n",
       "4                               0                            1   \n",
       "\n",
       "   smoking_status_smokes  \n",
       "0                      0  \n",
       "1                      0  \n",
       "2                      0  \n",
       "3                      1  \n",
       "4                      0  "
      ]
     },
     "execution_count": 29,
     "metadata": {},
     "output_type": "execute_result"
    }
   ],
   "source": [
    "X.head()"
   ]
  },
  {
   "cell_type": "markdown",
   "metadata": {},
   "source": [
    "Давайте посмотрим на распределения количественных признаков относительно целевой переменной, а так же корреляцию с целевой переменной."
   ]
  },
  {
   "cell_type": "code",
   "execution_count": 30,
   "metadata": {
    "scrolled": true
   },
   "outputs": [
    {
     "data": {
      "image/png": "[encoded data removed]",
      "text/plain": [
       "<Figure size 432x288 with 1 Axes>"
      ]
     },
     "metadata": {
      "needs_background": "light"
     },
     "output_type": "display_data"
    },
    {
     "data": {
      "image/png": "[encoded data removed]",
      "text/plain": [
       "<Figure size 432x288 with 1 Axes>"
      ]
     },
     "metadata": {
      "needs_background": "light"
     },
     "output_type": "display_data"
    },
    {
     "data": {
      "image/png": "[encoded data removed]",
      "text/plain": [
       "<Figure size 432x288 with 1 Axes>"
      ]
     },
     "metadata": {
      "needs_background": "light"
     },
     "output_type": "display_data"
    },
    {
     "data": {
      "image/png": "[encoded data removed]",
      "text/plain": [
       "<Figure size 432x288 with 1 Axes>"
      ]
     },
     "metadata": {
      "needs_background": "light"
     },
     "output_type": "display_data"
    },
    {
     "data": {
      "image/png": "[encoded data removed]",
      "text/plain": [
       "<Figure size 432x288 with 1 Axes>"
      ]
     },
     "metadata": {
      "needs_background": "light"
     },
     "output_type": "display_data"
    },
    {
     "data": {
      "image/png": "[encoded data removed]",
      "text/plain": [
       "<Figure size 432x288 with 1 Axes>"
      ]
     },
     "metadata": {
      "needs_background": "light"
     },
     "output_type": "display_data"
    },
    {
     "data": {
      "image/png": "[encoded data removed]",
      "text/plain": [
       "<Figure size 432x288 with 1 Axes>"
      ]
     },
     "metadata": {
      "needs_background": "light"
     },
     "output_type": "display_data"
    },
    {
     "data": {
      "image/png": "[encoded data removed]",
      "text/plain": [
       "<Figure size 360x360 with 1 Axes>"
      ]
     },
     "metadata": {
      "needs_background": "light"
     },
     "output_type": "display_data"
    },
    {
     "data": {
      "image/png": "[encoded data removed]",
      "text/plain": [
       "<Figure size 360x360 with 1 Axes>"
      ]
     },
     "metadata": {
      "needs_background": "light"
     },
     "output_type": "display_data"
    },
    {
     "data": {
      "image/png": "[encoded data removed]",
      "text/plain": [
       "<Figure size 432x288 with 1 Axes>"
      ]
     },
     "metadata": {
      "needs_background": "light"
     },
     "output_type": "display_data"
    }
   ],
   "source": [
    "for column in df.columns[1:-1]:\n",
    "    if column in ['age']:\n",
    "        sns.lineplot(data=df, x=column, y='stroke').set(title=column)\n",
    "    elif column in ['avg_glucose_level', 'bmi']:\n",
    "        sns.displot(data=df, x=column, y='stroke').set(title=column)\n",
    "    else:\n",
    "        sns.barplot(data=df, x=column, y='stroke').set(title=column)\n",
    "    plt.show()"
   ]
  },
  {
   "cell_type": "code",
   "execution_count": 31,
   "metadata": {},
   "outputs": [
    {
     "data": {
      "image/png": "[encoded data removed]",
      "text/plain": [
       "<Figure size 432x288 with 2 Axes>"
      ]
     },
     "metadata": {
      "needs_background": "light"
     },
     "output_type": "display_data"
    }
   ],
   "source": [
    "sns.heatmap(new_df.corr());"
   ]
  },
  {
   "cell_type": "markdown",
   "metadata": {},
   "source": [
    "Видим, что датасет очень не сбалансированный, то есть людей с инфарктом очень мало, что может помешать модели хорошо классифицировать (например, для бинарной классификации модель может решить, что ей лучше просто всегда выдавать самый популярный класс, нежели искать сложные зависимости в данных).\n",
    "Чтобы это избежать, я использую технику SMOTE, где мы искусственно можем контролировать доли классов в датасете."
   ]
  },
  {
   "cell_type": "code",
   "execution_count": 32,
   "metadata": {},
   "outputs": [],
   "source": [
    "# !pip install imblearn"
   ]
  },
  {
   "cell_type": "code",
   "execution_count": 33,
   "metadata": {},
   "outputs": [],
   "source": [
    "from sklearn.feature_selection import RFECV\n",
    "from sklearn.model_selection import StratifiedKFold, GridSearchCV, train_test_split\n",
    "from sklearn.linear_model import LogisticRegression\n",
    "from imblearn.over_sampling import SMOTE\n",
    "from sklearn.metrics import confusion_matrix"
   ]
  },
  {
   "cell_type": "code",
   "execution_count": 34,
   "metadata": {},
   "outputs": [],
   "source": [
    "X_train, X_test, y_train, y_test = train_test_split(X, Y, test_size=0.7, random_state=7, stratify=Y)"
   ]
  },
  {
   "cell_type": "code",
   "execution_count": 35,
   "metadata": {},
   "outputs": [
    {
     "data": {
      "text/plain": [
       "0    1457\n",
       "1      75\n",
       "Name: stroke, dtype: int64"
      ]
     },
     "execution_count": 35,
     "metadata": {},
     "output_type": "execute_result"
    }
   ],
   "source": [
    "# Смотрим, соотношение классов до\n",
    "y_train.value_counts()"
   ]
  },
  {
   "cell_type": "code",
   "execution_count": 36,
   "metadata": {},
   "outputs": [],
   "source": [
    "smote = SMOTE(random_state=7)\n",
    "X_train, y_train = smote.fit_resample(X_train, y_train)"
   ]
  },
  {
   "cell_type": "code",
   "execution_count": 37,
   "metadata": {},
   "outputs": [
    {
     "data": {
      "text/plain": [
       "0    1457\n",
       "1    1457\n",
       "Name: stroke, dtype: int64"
      ]
     },
     "execution_count": 37,
     "metadata": {},
     "output_type": "execute_result"
    }
   ],
   "source": [
    "# Смотрим, соотношение классов после\n",
    "y_train.value_counts()"
   ]
  },
  {
   "cell_type": "markdown",
   "metadata": {},
   "source": [
    "Теперь нужно подобрать признаки для модели. \n",
    "Исходя из графиков выше на целевую переменную больше всего оказывают влиятние следующие признаки: age, hypertension, heart_disease, ever_married (не будем брать из-за сильной корреляции с age), avg_glucose_level, bmi, self-employed, formerly_smoked.\n",
    "\n",
    "В качестве главной метрики будем брать recall.\n",
    "Выбор метрики объясняется тем, что это отрасль здравоохранение, и нам не так страшно отправить человека на повторное обследование, как, скажем, не заметить риски инфаркта.\n",
    "\n",
    "В качестве модели будем по классике брать логистическую регрессию, а кросс-валидацию для подбора гиперпараметров осуществлять на стратифицированных фолдах."
   ]
  },
  {
   "cell_type": "code",
   "execution_count": 38,
   "metadata": {},
   "outputs": [
    {
     "data": {
      "text/plain": [
       "[(0, 'gender'),\n",
       " (1, 'age'),\n",
       " (2, 'hypertension'),\n",
       " (3, 'heart_disease'),\n",
       " (4, 'ever_married'),\n",
       " (5, 'Residence_type'),\n",
       " (6, 'avg_glucose_level'),\n",
       " (7, 'bmi'),\n",
       " (8, 'work_type_Never_worked'),\n",
       " (9, 'work_type_Private'),\n",
       " (10, 'work_type_Self-employed'),\n",
       " (11, 'work_type_children'),\n",
       " (12, 'smoking_status_formerly smoked'),\n",
       " (13, 'smoking_status_never smoked'),\n",
       " (14, 'smoking_status_smokes')]"
      ]
     },
     "execution_count": 38,
     "metadata": {},
     "output_type": "execute_result"
    }
   ],
   "source": [
    "list(enumerate(X_train.columns))"
   ]
  },
  {
   "cell_type": "code",
   "execution_count": 39,
   "metadata": {},
   "outputs": [],
   "source": [
    "# Выбираем нужные колонки\n",
    "X_train = X_train.iloc[:, [1, 2, 3, 6, 7, 10, 12]]\n",
    "X_test = X_test.iloc[:, [1, 2, 3, 6, 7, 10, 12]]"
   ]
  },
  {
   "cell_type": "markdown",
   "metadata": {},
   "source": [
    "Далее давайте попробуем подобрать оптимальные гиперпараметры логистической регрессии."
   ]
  },
  {
   "cell_type": "code",
   "execution_count": 40,
   "metadata": {},
   "outputs": [
    {
     "name": "stdout",
     "output_type": "stream",
     "text": [
      "Fitting 5 folds for each of 10 candidates, totalling 50 fits\n"
     ]
    },
    {
     "data": {
      "text/plain": [
       "{'C': 0.01, 'penalty': 'l1'}"
      ]
     },
     "execution_count": 40,
     "metadata": {},
     "output_type": "execute_result"
    }
   ],
   "source": [
    "model = LogisticRegression(solver='liblinear')\n",
    "parameters = {'penalty': ['l1', 'l2'], 'C': [0.01, 0.05, 0.1, 0.5, 1.0]}\n",
    "cv = StratifiedKFold(5)\n",
    "clf = GridSearchCV(estimator=model, param_grid=parameters, \n",
    "                   scoring='recall', cv=cv, verbose=1)\n",
    "clf.fit(X_train, y_train)\n",
    "clf.best_params_"
   ]
  },
  {
   "cell_type": "markdown",
   "metadata": {},
   "source": [
    "Построим график изменения recall'а в зависимости от параметра."
   ]
  },
  {
   "cell_type": "code",
   "execution_count": 41,
   "metadata": {},
   "outputs": [],
   "source": [
    "results = pd.DataFrame(clf.cv_results_['mean_test_score'], columns=['mean_test_score'])\n",
    "params = clf.cv_results_['params']\n",
    "results['C'] = [d['C'] for d in params]\n",
    "results['penalty'] = [d['penalty'] for d in params]\n",
    "argmax_l1 = np.argmax(results[results['penalty'] == 'l1']['mean_test_score'])\n",
    "argmax_l2 = np.argmax(results[results['penalty'] == 'l2']['mean_test_score'])"
   ]
  },
  {
   "cell_type": "code",
   "execution_count": 42,
   "metadata": {},
   "outputs": [
    {
     "data": {
      "image/png": "[encoded data removed]",
      "text/plain": [
       "<Figure size 432x288 with 1 Axes>"
      ]
     },
     "metadata": {
      "needs_background": "light"
     },
     "output_type": "display_data"
    }
   ],
   "source": [
    "plt.plot(results[results['penalty'] == 'l1']['C'], \n",
    "         results[results['penalty'] == 'l1']['mean_test_score'], \n",
    "         color='red', label='l1')\n",
    "plt.plot(results[results['penalty'] == 'l2']['C'], \n",
    "         results[results['penalty'] == 'l2']['mean_test_score'], \n",
    "         color='blue', label='l2')\n",
    "plt.scatter(results[results['penalty'] == 'l1'].iloc[argmax_l1, 1], \n",
    "            results[results['penalty'] == 'l1'].iloc[argmax_l1, 0], \n",
    "            color='red')\n",
    "plt.scatter(results[results['penalty'] == 'l2'].iloc[argmax_l2, 1], \n",
    "            results[results['penalty'] == 'l2'].iloc[argmax_l2, 0], \n",
    "            color='blue')\n",
    "plt.title('Change in recall depending on C')\n",
    "plt.legend()\n",
    "plt.show()"
   ]
  },
  {
   "cell_type": "markdown",
   "metadata": {},
   "source": [
    "Посмотрим на качество на тестовой выборке."
   ]
  },
  {
   "cell_type": "code",
   "execution_count": 43,
   "metadata": {},
   "outputs": [
    {
     "data": {
      "text/plain": [
       "0.8563218390804598"
      ]
     },
     "execution_count": 43,
     "metadata": {},
     "output_type": "execute_result"
    }
   ],
   "source": [
    "clf.score(X_test, y_test)"
   ]
  },
  {
   "cell_type": "code",
   "execution_count": 44,
   "metadata": {},
   "outputs": [
    {
     "data": {
      "text/plain": [
       "array([[2304, 1099],\n",
       "       [  25,  149]])"
      ]
     },
     "execution_count": 44,
     "metadata": {},
     "output_type": "execute_result"
    }
   ],
   "source": [
    "confusion_matrix(y_true = y_test, y_pred=clf.predict(X_test))"
   ]
  },
  {
   "cell_type": "markdown",
   "metadata": {},
   "source": [
    "Теперь посмотрим, какой эффект оказывают предсказательные переменные на целевую.\n",
    "Будем вычислять маргинальный эффект для среднего человека.\n",
    "Формула для маргинального эффекта с лекции:\n",
    "- $Z = X \\beta$\n",
    "- $p = \\frac{1}{1 + e^{-Z}}$\n",
    "- $f(Z) = \\frac{dp}{dZ} = \\frac{e^{-Z}}{(1 + e^{-Z})^{2}}$ (производная пробит функции)\n",
    "- $\\frac{dp}{dX} = \\frac{dp}{dZ} \\cdot \\frac{dZ}{dX} = f(Z) \\cdot \\beta$"
   ]
  },
  {
   "cell_type": "code",
   "execution_count": 45,
   "metadata": {},
   "outputs": [],
   "source": [
    "def calculate_mean_effects(clf, X):\n",
    "    coef = clf.best_estimator_.coef_\n",
    "    Z = coef @ X_final.mean().values + clf.best_estimator_.intercept_\n",
    "    exp = np.exp(-Z)\n",
    "    effects = pd.DataFrame(X.columns, columns=['Feature_name'])\n",
    "    effects['dy/dx'] = [np.round(exp * c / (1 + exp)**2, 3) for c in coef][0]\n",
    "    return effects"
   ]
  },
  {
   "cell_type": "code",
   "execution_count": 46,
   "metadata": {},
   "outputs": [
    {
     "data": {
      "text/html": [
       "<div>\n",
       "<style scoped>\n",
       "    .dataframe tbody tr th:only-of-type {\n",
       "        vertical-align: middle;\n",
       "    }\n",
       "\n",
       "    .dataframe tbody tr th {\n",
       "        vertical-align: top;\n",
       "    }\n",
       "\n",
       "    .dataframe thead th {\n",
       "        text-align: right;\n",
       "    }\n",
       "</style>\n",
       "<table border=\"1\" class=\"dataframe\">\n",
       "  <thead>\n",
       "    <tr style=\"text-align: right;\">\n",
       "      <th></th>\n",
       "      <th>Feature_name</th>\n",
       "      <th>dy/dx</th>\n",
       "    </tr>\n",
       "  </thead>\n",
       "  <tbody>\n",
       "    <tr>\n",
       "      <th>0</th>\n",
       "      <td>age</td>\n",
       "      <td>0.296</td>\n",
       "    </tr>\n",
       "    <tr>\n",
       "      <th>1</th>\n",
       "      <td>hypertension</td>\n",
       "      <td>0.000</td>\n",
       "    </tr>\n",
       "    <tr>\n",
       "      <th>2</th>\n",
       "      <td>heart_disease</td>\n",
       "      <td>0.000</td>\n",
       "    </tr>\n",
       "    <tr>\n",
       "      <th>3</th>\n",
       "      <td>avg_glucose_level</td>\n",
       "      <td>0.023</td>\n",
       "    </tr>\n",
       "    <tr>\n",
       "      <th>4</th>\n",
       "      <td>bmi</td>\n",
       "      <td>0.000</td>\n",
       "    </tr>\n",
       "    <tr>\n",
       "      <th>5</th>\n",
       "      <td>work_type_Self-employed</td>\n",
       "      <td>0.000</td>\n",
       "    </tr>\n",
       "    <tr>\n",
       "      <th>6</th>\n",
       "      <td>smoking_status_formerly smoked</td>\n",
       "      <td>0.000</td>\n",
       "    </tr>\n",
       "  </tbody>\n",
       "</table>\n",
       "</div>"
      ],
      "text/plain": [
       "                     Feature_name  dy/dx\n",
       "0                             age  0.296\n",
       "1                    hypertension  0.000\n",
       "2                   heart_disease  0.000\n",
       "3               avg_glucose_level  0.023\n",
       "4                             bmi  0.000\n",
       "5         work_type_Self-employed  0.000\n",
       "6  smoking_status_formerly smoked  0.000"
      ]
     },
     "execution_count": 46,
     "metadata": {},
     "output_type": "execute_result"
    }
   ],
   "source": [
    "# Средний человек по всему датасету по предсказательным переменным.\n",
    "X_final = new_df.loc[:, X_train.columns]\n",
    "effects = calculate_mean_effects(clf, X_final)\n",
    "effects"
   ]
  },
  {
   "cell_type": "markdown",
   "metadata": {},
   "source": [
    "Видим, что для среднего человека всего 2 признака оказывают эффект на предсказание у него инсульта. \n",
    "Это его возраст и уровень глюкозы."
   ]
  },
  {
   "cell_type": "code",
   "execution_count": null,
   "metadata": {},
   "outputs": [],
   "source": []
  }
 ],
 "metadata": {
  "kernelspec": {
   "display_name": "Python 3 (ipykernel)",
   "language": "python",
   "name": "python3"
  },
  "language_info": {
   "codemirror_mode": {
    "name": "ipython",
    "version": 3
   },
   "file_extension": ".py",
   "mimetype": "text/x-python",
   "name": "python",
   "nbconvert_exporter": "python",
   "pygments_lexer": "ipython3",
   "version": "3.9.12"
  },
  "toc": {
   "base_numbering": 1,
   "nav_menu": {},
   "number_sections": true,
   "sideBar": true,
   "skip_h1_title": true,
   "title_cell": "Table of Contents",
   "title_sidebar": "Contents",
   "toc_cell": false,
   "toc_position": {},
   "toc_section_display": true,
   "toc_window_display": false
  },
  "varInspector": {
   "cols": {
    "lenName": 16,
    "lenType": 16,
    "lenVar": 40
   },
   "kernels_config": {
    "python": {
     "delete_cmd_postfix": "",
     "delete_cmd_prefix": "del ",
     "library": "var_list.py",
     "varRefreshCmd": "print(var_dic_list())"
    },
    "r": {
     "delete_cmd_postfix": ") ",
     "delete_cmd_prefix": "rm(",
     "library": "var_list.r",
     "varRefreshCmd": "cat(var_dic_list()) "
    }
   },
   "types_to_exclude": [
    "module",
    "function",
    "builtin_function_or_method",
    "instance",
    "_Feature"
   ],
   "window_display": false
  }
 },
 "nbformat": 4,
 "nbformat_minor": 4
}
